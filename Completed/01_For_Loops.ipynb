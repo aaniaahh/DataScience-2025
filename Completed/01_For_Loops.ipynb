{
  "nbformat": 4,
  "nbformat_minor": 0,
  "metadata": {
    "colab": {
      "provenance": [],
      "authorship_tag": "ABX9TyPs6njjdwUyb5Hxz9Mzk2Si",
      "include_colab_link": true
    },
    "kernelspec": {
      "name": "python3",
      "display_name": "Python 3"
    },
    "language_info": {
      "name": "python"
    }
  },
  "cells": [
    {
      "cell_type": "markdown",
      "metadata": {
        "id": "view-in-github",
        "colab_type": "text"
      },
      "source": [
        "<a href=\"https://colab.research.google.com/github/aaniaahh/DataScience-2025/blob/main/Completed/01_For_Loops.ipynb\" target=\"_parent\"><img src=\"https://colab.research.google.com/assets/colab-badge.svg\" alt=\"Open In Colab\"/></a>"
      ]
    },
    {
      "cell_type": "markdown",
      "source": [
        "# 📘 01 - For Loops\n",
        "Learn how to use `for` loops to iterate over sequences.\n",
        "\n",
        "## ✅ Learning Goals\n",
        "* Use for with lists, strings, and range()\n",
        "* Understand loop variables and block structure"
      ],
      "metadata": {
        "id": "UIRp9FxegXsI"
      }
    },
    {
      "cell_type": "code",
      "execution_count": null,
      "metadata": {
        "id": "5-yALs8rgVVC"
      },
      "outputs": [],
      "source": [
        "# 🔁 Loop over a list\n",
        "fruits = ['apple', 'banana', 'cherry']\n",
        "for fruit in fruits:\n",
        "    print(fruit)"
      ]
    },
    {
      "cell_type": "code",
      "source": [
        "# 🔁 Loop over characters in a string\n",
        "word = 'hello'\n",
        "for char in word:\n",
        "    print(char)"
      ],
      "metadata": {
        "colab": {
          "base_uri": "https://localhost:8080/"
        },
        "collapsed": true,
        "id": "eKgbV7AWg4zw",
        "outputId": "c5c05f88-7400-4add-9280-c5f287008189"
      },
      "execution_count": null,
      "outputs": [
        {
          "output_type": "stream",
          "name": "stdout",
          "text": [
            "h\n",
            "e\n",
            "l\n",
            "l\n",
            "o\n"
          ]
        }
      ]
    },
    {
      "cell_type": "code",
      "source": [
        "# 🔁 Using range()\n",
        "for i in range(5):\n",
        "    print(i)"
      ],
      "metadata": {
        "id": "nRau7XMbg8sQ"
      },
      "execution_count": null,
      "outputs": []
    },
    {
      "cell_type": "code",
      "source": [
        "# ➕ Loop with math\n",
        "for i in range(1, 6):\n",
        "    print(f'{i} squared is', i ** 2)"
      ],
      "metadata": {
        "id": "mWxLiXCUhCrg"
      },
      "execution_count": null,
      "outputs": []
    },
    {
      "cell_type": "markdown",
      "source": [
        "## ✏️ Your Turn\n",
        "Loop over a list of 3 favorite movies and print them in all caps."
      ],
      "metadata": {
        "id": "c7TDyXURhGCA"
      }
    },
    {
      "cell_type": "code",
      "source": [
        "movies = ['Major Payne', 'Norbit', 'ATL']\n",
        "for movie in movies:\n",
        "    print(movie.upper())"
      ],
      "metadata": {
        "colab": {
          "base_uri": "https://localhost:8080/"
        },
        "id": "uPNRv7Zqhr5b",
        "outputId": "01fa3fba-eb35-4f3e-cb93-5b44faaa00d9"
      },
      "execution_count": null,
      "outputs": [
        {
          "output_type": "stream",
          "name": "stdout",
          "text": [
            "MAJOR PAYNE\n",
            "NORBIT\n",
            "ATL\n"
          ]
        }
      ]
    }
  ]
}