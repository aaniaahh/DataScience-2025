{
  "nbformat": 4,
  "nbformat_minor": 0,
  "metadata": {
    "colab": {
      "provenance": [],
      "authorship_tag": "ABX9TyPHsqAMgK4aUZrjVltO6oAj",
      "include_colab_link": true
    },
    "kernelspec": {
      "name": "python3",
      "display_name": "Python 3"
    },
    "language_info": {
      "name": "python"
    }
  },
  "cells": [
    {
      "cell_type": "markdown",
      "metadata": {
        "id": "view-in-github",
        "colab_type": "text"
      },
      "source": [
        "<a href=\"https://colab.research.google.com/github/aaniaahh/DataScience-2025/blob/main/Completed/03_Dictionaries.ipynb\" target=\"_parent\"><img src=\"https://colab.research.google.com/assets/colab-badge.svg\" alt=\"Open In Colab\"/></a>"
      ]
    },
    {
      "cell_type": "markdown",
      "source": [
        "# 📘 03 - Python Dictionaries\n",
        "Dictionaries store key-value pairs for fast lookups.\n",
        "\n",
        "## ✅ Learning Goals\n",
        "* Create and access dictionary items\n",
        "* Use dictionary methods like .get() and .items()"
      ],
      "metadata": {
        "id": "_QuFxY-fMNvG"
      }
    },
    {
      "cell_type": "code",
      "execution_count": null,
      "metadata": {
        "id": "SfkTY4yAMIX0"
      },
      "outputs": [],
      "source": [
        "# 📚 Create a Dictionary\n",
        "student = {'name': 'Alex', 'age': 21, 'major': 'CS'}\n",
        "print(student)"
      ]
    },
    {
      "cell_type": "code",
      "source": [
        "# 🔍 Access Values\n",
        "print(student['name'])\n",
        "print(student.get('gpa', 'N/A'))"
      ],
      "metadata": {
        "id": "lgHdLPMhMho1"
      },
      "execution_count": null,
      "outputs": []
    },
    {
      "cell_type": "code",
      "source": [
        "# 🔁 Loop Over Dictionary\n",
        "for key, value in student.items():\n",
        "    print(key, '->', value)"
      ],
      "metadata": {
        "id": "AyTNLZ4BMktc"
      },
      "execution_count": null,
      "outputs": []
    },
    {
      "cell_type": "markdown",
      "source": [
        "## ✏️ Your Turn\n",
        "I will create a dictionary to store information about your favorite book."
      ],
      "metadata": {
        "id": "Bv9f41u_MoVF"
      }
    },
    {
      "cell_type": "code",
      "source": [
        "# Create a dictionary for favorite book\n",
        "favorite_book = {\n",
        "    \"title\": \"Tears of a Tiger\",\n",
        "    \"author\": \"Sharon M. Draper\",\n",
        "    \"genre\": \"Fiction\",\n",
        "    \"year_published\": 1994,\n",
        "    \"pages\": 192\n",
        "}\n",
        "\n",
        "# Print dictionary\n",
        "print(\"Favorite Book Information:\")\n",
        "print(\"Title:\", favorite_book['title'])\n",
        "print(\"Author:\", favorite_book['author'])\n",
        "print(\"Genre:\", favorite_book['genre'])\n",
        "print(\"Year Published:\", favorite_book['year_published'])\n"
      ],
      "metadata": {
        "colab": {
          "base_uri": "https://localhost:8080/"
        },
        "id": "_kngkWjPMsV4",
        "outputId": "34d6ef47-0607-4d58-f392-4147803ee5ba"
      },
      "execution_count": 6,
      "outputs": [
        {
          "output_type": "stream",
          "name": "stdout",
          "text": [
            "Favorite Book Information:\n",
            "Title: Tears of a Tiger\n",
            "Author: Sharon M. Draper\n",
            "Genre: Fiction\n",
            "Year Published: 1994\n"
          ]
        }
      ]
    }
  ]
}