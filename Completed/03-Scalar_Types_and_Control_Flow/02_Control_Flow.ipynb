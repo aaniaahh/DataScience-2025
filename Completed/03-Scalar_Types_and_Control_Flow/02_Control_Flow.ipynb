{
  "nbformat": 4,
  "nbformat_minor": 0,
  "metadata": {
    "colab": {
      "provenance": [],
      "authorship_tag": "ABX9TyOrG4ltjQu6gsXPrkiDgYwj",
      "include_colab_link": true
    },
    "kernelspec": {
      "name": "python3",
      "display_name": "Python 3"
    },
    "language_info": {
      "name": "python"
    }
  },
  "cells": [
    {
      "cell_type": "markdown",
      "metadata": {
        "id": "view-in-github",
        "colab_type": "text"
      },
      "source": [
        "<a href=\"https://colab.research.google.com/github/aaniaahh/DataScience-2025/blob/main/Completed/02_Control_Flow.ipynb\" target=\"_parent\"><img src=\"https://colab.research.google.com/assets/colab-badge.svg\" alt=\"Open In Colab\"/></a>"
      ]
    },
    {
      "cell_type": "markdown",
      "source": [
        "# 📘 02 - Control Flow\n",
        "Learn how to use conditional logic in Python.\n",
        "\n",
        "## ✅ Learning Goals\n",
        "* Write `if`, `elif`, `else` statements\n",
        "* Understand truthy/falsy values\n",
        "* Combine conditions using `and`, `or`, `not`"
      ],
      "metadata": {
        "id": "vR_oq6qAXIoY"
      }
    },
    {
      "cell_type": "code",
      "execution_count": null,
      "metadata": {
        "id": "pA1wnje7P3cV"
      },
      "outputs": [],
      "source": [
        "# 🔧 Basic example\n",
        "age = 20\n",
        "if age >= 18:\n",
        "    print('You are an adult.')\n",
        "else:\n",
        "    print('You are a minor.')"
      ]
    },
    {
      "cell_type": "markdown",
      "source": [
        "## 🔀 Multiple Branches"
      ],
      "metadata": {
        "id": "sSgVhhMSX5S7"
      }
    },
    {
      "cell_type": "code",
      "source": [
        "temp = 72\n",
        "if temp > 90:\n",
        "    print('Too hot!')\n",
        "elif temp < 60:\n",
        "    print('Too cold!')\n",
        "else:\n",
        "    print('Just right.')"
      ],
      "metadata": {
        "id": "kWR6-yNVX-G8"
      },
      "execution_count": null,
      "outputs": []
    },
    {
      "cell_type": "markdown",
      "source": [
        "## ✏️ Your Turn\n",
        "Use input() to ask a user their grade and print a message based on value."
      ],
      "metadata": {
        "id": "4UMsfiu9YEpW"
      }
    },
    {
      "cell_type": "code",
      "source": [
        "# Ask for grade input\n",
        "grade = int(input('Enter your score: '))\n",
        "\n",
        "# Use if else statement to give grade letter\n",
        "if grade >= 90:\n",
        "  print('A')\n",
        "elif grade >= 80:\n",
        "  print('B')\n",
        "elif grade >= 70:\n",
        "  print('C')\n",
        "elif grade >= 60:\n",
        "  print('D')\n",
        "else:\n",
        "  print('F')"
      ],
      "metadata": {
        "colab": {
          "base_uri": "https://localhost:8080/"
        },
        "collapsed": true,
        "id": "pXzRojRGY3lQ",
        "outputId": "e23e8e75-e38f-403b-a6c1-c8f149840219"
      },
      "execution_count": 6,
      "outputs": [
        {
          "output_type": "stream",
          "name": "stdout",
          "text": [
            "Enter your score: 105\n",
            "A\n"
          ]
        }
      ]
    }
  ]
}