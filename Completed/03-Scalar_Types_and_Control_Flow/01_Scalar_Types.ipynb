{
  "nbformat": 4,
  "nbformat_minor": 0,
  "metadata": {
    "colab": {
      "provenance": [],
      "authorship_tag": "ABX9TyOZmpWQ9hm2Fa6++PnWByNV",
      "include_colab_link": true
    },
    "kernelspec": {
      "name": "python3",
      "display_name": "Python 3"
    },
    "language_info": {
      "name": "python"
    }
  },
  "cells": [
    {
      "cell_type": "markdown",
      "metadata": {
        "id": "view-in-github",
        "colab_type": "text"
      },
      "source": [
        "<a href=\"https://colab.research.google.com/github/aaniaahh/DataScience-2025/blob/main/Completed/01_Scalar_Types.ipynb\" target=\"_parent\"><img src=\"https://colab.research.google.com/assets/colab-badge.svg\" alt=\"Open In Colab\"/></a>"
      ]
    },
    {
      "cell_type": "markdown",
      "source": [
        "# 📘 01 - Scalar Types\n",
        "Review and practice working with Python's basic scalar data types.\n",
        "\n",
        "## ✅ Learning Goals\n",
        "* Recognize scalar types (`int`, `float`, `str`, `bool`)\n",
        "* Use the type() function to identify types\n",
        "* Use variables and assignment"
      ],
      "metadata": {
        "id": "vDUf93bknQmE"
      }
    },
    {
      "cell_type": "code",
      "execution_count": 3,
      "metadata": {
        "id": "V5KluXPYnHvE"
      },
      "outputs": [],
      "source": [
        "# 🔧 Define some variables\n",
        "num = 42\n",
        "pi = 3.14159\n",
        "name = 'Python'\n",
        "is_cool = True"
      ]
    },
    {
      "cell_type": "code",
      "source": [
        "# 🔍 Check their types\n",
        "print(type(num))\n",
        "print(type(pi))\n",
        "print(type(name))\n",
        "print(type(is_cool))"
      ],
      "metadata": {
        "collapsed": true,
        "id": "cx0XZZhCnciM"
      },
      "execution_count": null,
      "outputs": []
    },
    {
      "cell_type": "markdown",
      "source": [
        "## ✏️ Your Turn\n",
        "Create your own variables of each type and print them."
      ],
      "metadata": {
        "id": "oJK5MpiHnjnt"
      }
    },
    {
      "cell_type": "code",
      "source": [
        "# Define the variables\n",
        "year = 2025\n",
        "e = 2.71828\n",
        "name = 'Aniah'\n",
        "is_done = True\n",
        "\n",
        "# Check their types\n",
        "print(type(year))\n",
        "print(type(e))\n",
        "print(type(name))\n",
        "print(type(is_done))"
      ],
      "metadata": {
        "id": "U5R8MPlnnnTw"
      },
      "execution_count": null,
      "outputs": []
    },
    {
      "cell_type": "markdown",
      "source": [
        "## ⚖️ Comparison Practice\n",
        "Use comparison operators to check values."
      ],
      "metadata": {
        "id": "MitGjPlynoJq"
      }
    },
    {
      "cell_type": "code",
      "source": [
        "x = 10\n",
        "y = 5\n",
        "print(x > y)\n",
        "print(x == y)\n",
        "print(x != y)"
      ],
      "metadata": {
        "id": "q-Q_FwKJnv8i"
      },
      "execution_count": null,
      "outputs": []
    },
    {
      "cell_type": "markdown",
      "source": [
        "## 🧠 Quick Check\n",
        "What will the following print?\n",
        "\n",
        "print(3.0 == 3)\n",
        "\n",
        "`Answer:` True"
      ],
      "metadata": {
        "id": "rkFOcfH7nxhJ"
      }
    }
  ]
}