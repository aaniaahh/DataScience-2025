{
  "nbformat": 4,
  "nbformat_minor": 0,
  "metadata": {
    "colab": {
      "provenance": [],
      "authorship_tag": "ABX9TyP+oXkvPlaEcWbpj972KBZp",
      "include_colab_link": true
    },
    "kernelspec": {
      "name": "python3",
      "display_name": "Python 3"
    },
    "language_info": {
      "name": "python"
    }
  },
  "cells": [
    {
      "cell_type": "markdown",
      "metadata": {
        "id": "view-in-github",
        "colab_type": "text"
      },
      "source": [
        "<a href=\"https://colab.research.google.com/github/aaniaahh/DataScience-2025/blob/main/Completed/06-Working_with_Data/04_indexing_and_selection.ipynb\" target=\"_parent\"><img src=\"https://colab.research.google.com/assets/colab-badge.svg\" alt=\"Open In Colab\"/></a>"
      ]
    },
    {
      "cell_type": "markdown",
      "source": [
        "# 🎯 Notebook 04: Indexing and Selection\n",
        "Time to slice and dice.\n",
        "\n",
        "In this notebook, you'll:\n",
        "* Use `.loc[]` for label-based selection\n",
        "* Use `.iloc[]` for position-based selection\n",
        "* Create boolean masks to filter rows\n",
        "* Select specific columns and rows (solo or together)\n",
        "\n",
        "## Let the chaos of index manipulation begin."
      ],
      "metadata": {
        "id": "KqJubR9y0LwS"
      }
    },
    {
      "cell_type": "code",
      "execution_count": null,
      "metadata": {
        "id": "DZqyc0Ej0AuQ"
      },
      "outputs": [],
      "source": [
        "import pandas as pd\n",
        "import seaborn as sns\n",
        "\n",
        "# We'll use the Titanic dataset again\n",
        "df = sns.load_dataset(\"titanic\")\n",
        "df.head(3)"
      ]
    },
    {
      "cell_type": "markdown",
      "source": [
        "## 🔎 Select rows by label with .loc[]"
      ],
      "metadata": {
        "id": "Rb3ZXWGJ1Civ"
      }
    },
    {
      "cell_type": "code",
      "source": [
        "# .loc[row_label, column_label]\n",
        "# Titanic uses default RangeIndex, so labels are integers\n",
        "print(df.loc[0])\n",
        "\n",
        "# Row range (inclusive!)\n",
        "df.loc[0:4, [\"age\", \"fare\", \"sex\"]]"
      ],
      "metadata": {
        "id": "9KtCiDmO1EPd"
      },
      "execution_count": null,
      "outputs": []
    },
    {
      "cell_type": "markdown",
      "source": [
        "## 🔢 Select rows by position with .iloc[]"
      ],
      "metadata": {
        "id": "k1IZGFrr1Ekz"
      }
    },
    {
      "cell_type": "code",
      "source": [
        "# iloc uses pure positions\n",
        "df.iloc[0]  # First row\n",
        "\n",
        "# Row slice, column slice\n",
        "df.iloc[1:4, 0:5]"
      ],
      "metadata": {
        "id": "v4iudqHe1X6k"
      },
      "execution_count": null,
      "outputs": []
    },
    {
      "cell_type": "markdown",
      "source": [
        "## 🎯 Boolean Masking (Filtering)"
      ],
      "metadata": {
        "id": "hfNOfQa51b3i"
      }
    },
    {
      "cell_type": "code",
      "source": [
        "# Filter passengers under age 10\n",
        "kids = df[df[\"age\"] < 10]\n",
        "kids[[\"age\", \"sex\", \"class\"]].head()"
      ],
      "metadata": {
        "id": "9kbU9zAV1dLh"
      },
      "execution_count": null,
      "outputs": []
    },
    {
      "cell_type": "markdown",
      "source": [
        "## 🧠 Compound Conditions"
      ],
      "metadata": {
        "id": "4f6595Ki1jHU"
      }
    },
    {
      "cell_type": "code",
      "source": [
        "# Adults in First Class who paid over $100\n",
        "rich_folks = df[(df[\"age\"] > 18) & (df[\"class\"] == \"First\") & (df[\"fare\"] > 100)]\n",
        "rich_folks[[\"age\", \"class\", \"fare\"]].head()"
      ],
      "metadata": {
        "id": "RO0mx-_-1orq"
      },
      "execution_count": null,
      "outputs": []
    },
    {
      "cell_type": "markdown",
      "source": [
        "## 🧹 Select Columns Only"
      ],
      "metadata": {
        "id": "RGTT8UhV1rXA"
      }
    },
    {
      "cell_type": "code",
      "source": [
        "df[[\"sex\", \"age\", \"embarked\"]].head()"
      ],
      "metadata": {
        "id": "x2C-ILA31v4s"
      },
      "execution_count": null,
      "outputs": []
    },
    {
      "cell_type": "markdown",
      "source": [
        "## 🎯 Your Turn\n",
        "1. Select the first row using `.iloc[]`, then again using `.loc[]`.\n",
        "2. Slice the first 5 rows and select only `survived`, `sex`, and `age` columns.\n",
        "3. Filter the dataset for female passengers over 40.\n",
        "4. Create a DataFrame of passengers in 2nd class under age 15.\n",
        "5. Use `.loc[]` to select the rows 10–20 and only the columns `fare`, `class`, and `age`.\n",
        "\n",
        "🎯 **Bonus**: Find passengers with missing `age` and print only their `name`, `age`, and `pclass` (use `.isnull()`)."
      ],
      "metadata": {
        "id": "gOzd4oVL1yur"
      }
    },
    {
      "cell_type": "code",
      "source": [
        "import pandas as pd\n",
        "import seaborn as sns\n",
        "\n",
        "# Load Titanic dataset\n",
        "df = sns.load_dataset(\"titanic\")\n",
        "\n",
        "# 1 Select the first row using .iloc[] and .loc[]\n",
        "print(\"This is part 1:\\n\")\n",
        "print(\"First row using iloc[]:\")\n",
        "print(df.iloc[0], \"\\n\")\n",
        "\n",
        "print(\"First row using loc[]:\")\n",
        "print(df.loc[0], \"\\n\")\n",
        "\n",
        "# 2 Slice the first 5 rows and select only 'survived', 'sex', and 'age'\n",
        "print(\"This is part 2:\\n\")\n",
        "subset = df.loc[:4, ['survived', 'sex', 'age']]\n",
        "print(\"First 5 rows (columns: survived, sex, age):\")\n",
        "print(subset, \"\\n\")\n",
        "\n",
        "# 3 Filter the dataset for female passengers over 40\n",
        "print(\"This is part 3:\\n\")\n",
        "females_over_40 = df[(df['sex'] == 'female') & (df['age'] > 40)]\n",
        "print(\"Female passengers over 40:\")\n",
        "print(females_over_40.head(), \"\\n\")\n",
        "\n",
        "# 4 Create a DataFrame of passengers in 2nd class under age 15\n",
        "print(\"This is part 4:\\n\")\n",
        "second_class_under_15 = df[(df['class'] == 'Second') & (df['age'] < 15)]\n",
        "print(\"Passengers in 2nd class under age 15:\")\n",
        "print(second_class_under_15.head(), \"\\n\")\n",
        "\n",
        "# 5 Use .loc[] to select rows 10–20 and only 'fare', 'class', and 'age'\n",
        "print(\"This is part 5:\\n\")\n",
        "rows_10_20 = df.loc[10:20, ['fare', 'class', 'age']]\n",
        "print(\"Rows 10–20 (columns: fare, class, age):\")\n",
        "print(rows_10_20, \"\\n\")\n",
        "\n",
        "# BONUS: Find passengers with missing 'age' and print 'name', 'age', and 'pclass'\n",
        "print(\"This is the bonus part:\\n\")\n",
        "missing_age = df[df['age'].isnull()][['who', 'age', 'pclass']]\n",
        "print(\"Passengers with missing age:\")\n",
        "print(missing_age.head())\n"
      ],
      "metadata": {
        "id": "aiy3s99X3Pnr"
      },
      "execution_count": null,
      "outputs": []
    },
    {
      "cell_type": "markdown",
      "source": [
        "## 🧼 Why This Matters\n",
        "Being able to surgically select parts of your dataset is the core of real analysis. Whether you're cleaning junk or feeding a model, proper indexing = power."
      ],
      "metadata": {
        "id": "wXDV3x533QGJ"
      }
    }
  ]
}