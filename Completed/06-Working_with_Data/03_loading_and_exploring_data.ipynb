{
  "nbformat": 4,
  "nbformat_minor": 0,
  "metadata": {
    "colab": {
      "provenance": [],
      "authorship_tag": "ABX9TyPkezY4BHL3eVC6ePOvtSq6",
      "include_colab_link": true
    },
    "kernelspec": {
      "name": "python3",
      "display_name": "Python 3"
    },
    "language_info": {
      "name": "python"
    }
  },
  "cells": [
    {
      "cell_type": "markdown",
      "metadata": {
        "id": "view-in-github",
        "colab_type": "text"
      },
      "source": [
        "<a href=\"https://colab.research.google.com/github/aaniaahh/DataScience-2025/blob/main/Completed/06-Working_with_Data/03_loading_and_exploring_data.ipynb\" target=\"_parent\"><img src=\"https://colab.research.google.com/assets/colab-badge.svg\" alt=\"Open In Colab\"/></a>"
      ]
    },
    {
      "cell_type": "markdown",
      "source": [
        "# 📂 Notebook 03: Loading and Exploring Data\n",
        "Welcome to the real world — where data lives in messy CSVs and your job is to make sense of it.\n",
        "\n",
        "In this notebook, you’ll:\n",
        "* Load a CSV file using `pd.read_csv()`\n",
        "* Use `.head()`, `.tail()`, `.info()`, and `.describe()` to explore your data\n",
        "* Identify potential issues (missing values, bad types, oddball rows)\n",
        "\n",
        "## Let’s get our hands dirty."
      ],
      "metadata": {
        "id": "rUV2ei9KTGib"
      }
    },
    {
      "cell_type": "code",
      "execution_count": null,
      "metadata": {
        "id": "U810CST3S-YD"
      },
      "outputs": [],
      "source": [
        "import pandas as pd"
      ]
    },
    {
      "cell_type": "markdown",
      "source": [
        "## 📥 Load a CSV\n",
        "Replace the filename below with a real CSV path or URL. For testing, use built-in seaborn datasets."
      ],
      "metadata": {
        "id": "M8XuKHZaTdwo"
      }
    },
    {
      "cell_type": "code",
      "source": [
        "# Example with seaborn's Titanic dataset\n",
        "import seaborn as sns\n",
        "df = sns.load_dataset(\"titanic\")\n",
        "df.head()"
      ],
      "metadata": {
        "id": "qUhoCB2dTkOF"
      },
      "execution_count": null,
      "outputs": []
    },
    {
      "cell_type": "markdown",
      "source": [
        "## 📊 Peek at the Data"
      ],
      "metadata": {
        "id": "zQ0wv9WhTmMW"
      }
    },
    {
      "cell_type": "code",
      "source": [
        "# First and last few rows\n",
        "print(\"First 5 rows:\")\n",
        "print(df.head())\n",
        "\n",
        "print(\"\\nLast 5 rows:\")\n",
        "print(df.tail())"
      ],
      "metadata": {
        "id": "cpNQNwwuTnk_"
      },
      "execution_count": null,
      "outputs": []
    },
    {
      "cell_type": "markdown",
      "source": [
        "## 🧠 Understand Structure"
      ],
      "metadata": {
        "id": "mrKArALHTqdB"
      }
    },
    {
      "cell_type": "code",
      "source": [
        "# Dimensions and columns\n",
        "print(\"Shape:\", df.shape)\n",
        "print(\"\\nColumns:\", df.columns.tolist())"
      ],
      "metadata": {
        "id": "wcN5wBs5TwBB"
      },
      "execution_count": null,
      "outputs": []
    },
    {
      "cell_type": "markdown",
      "source": [
        "## 🧼 Data Types & Missing Values"
      ],
      "metadata": {
        "id": "v6kTlbeUUPvM"
      }
    },
    {
      "cell_type": "code",
      "source": [
        "# Data types and null counts\n",
        "print(\"\\nInfo:\")\n",
        "df.info()\n",
        "\n",
        "# How many missing values per column?\n",
        "print(\"\\nMissing values per column:\")\n",
        "print(df.isnull().sum())"
      ],
      "metadata": {
        "id": "-Jom08hEUQ2M"
      },
      "execution_count": null,
      "outputs": []
    },
    {
      "cell_type": "markdown",
      "source": [
        "## 📈 Summary Statistics"
      ],
      "metadata": {
        "id": "WGbict8VUUJ8"
      }
    },
    {
      "cell_type": "code",
      "source": [
        "df.describe(include=\"all\")"
      ],
      "metadata": {
        "id": "-aPlysqgUWfI"
      },
      "execution_count": null,
      "outputs": []
    },
    {
      "cell_type": "markdown",
      "source": [
        "## ✏️ Renaming Columns (Optional but fun)"
      ],
      "metadata": {
        "id": "GothvIvdUa-v"
      }
    },
    {
      "cell_type": "code",
      "source": [
        "# Rename 'sex' to 'gender' for clarity\n",
        "df.rename(columns={\"sex\": \"gender\"}, inplace=True)\n",
        "df.head(2)"
      ],
      "metadata": {
        "id": "p_UnW6qVUcsx"
      },
      "execution_count": null,
      "outputs": []
    },
    {
      "cell_type": "markdown",
      "source": [
        "## 🔍 Your Turn\n",
        "1. Load a dataset of your choice (`pd.read_csv()` or `sns.load_dataset()`)\n",
        "2. Print the first and last 5 rows.\n",
        "3. Show `.info()` and `.describe()` results.\n",
        "4. Print the column names. Rename one of them.\n",
        "\n",
        "🎯 **Bonus**: What percentage of rows have any missing values?\n",
        "\n",
        "HINT: df.isnull().any(axis=1).mean() * 100  # percent of rows with any NaNs"
      ],
      "metadata": {
        "id": "tDBINGhRUfuW"
      }
    },
    {
      "cell_type": "code",
      "source": [
        "import pandas as pd\n",
        "import seaborn as sns\n",
        "\n",
        "# 1️ Load a dataset of your choice\n",
        "df = sns.load_dataset(\"penguins\")\n",
        "\n",
        "# 2️ Print the first and last 5 rows\n",
        "print(\"First 5 rows:\")\n",
        "print(df.head(), \"\\n\")\n",
        "\n",
        "print(\"Last 5 rows:\")\n",
        "print(df.tail(), \"\\n\")\n",
        "\n",
        "# 3️ Show .info() and .describe() results\n",
        "print(\"DataFrame Info:\")\n",
        "print(df.info(), \"\\n\")\n",
        "\n",
        "print(\"Descriptive Statistics:\")\n",
        "print(df.describe(), \"\\n\")\n",
        "\n",
        "# 4️ Print column names and rename one\n",
        "print(\"Original Columns:\", df.columns.tolist(), \"\\n\")\n",
        "\n",
        "# Rename a column (for fun 😈)\n",
        "df.rename(columns={\"species\": \"bird_type\"}, inplace=True)\n",
        "print(\"Renamed Columns:\", df.columns.tolist(), \"\\n\")\n",
        "\n",
        "# BONUS: Percentage of rows with any missing values\n",
        "missing_percent = df.isnull().any(axis=1).mean() * 100\n",
        "print(f\"Percentage of rows with missing values: {missing_percent:.2f}%\")\n"
      ],
      "metadata": {
        "colab": {
          "base_uri": "https://localhost:8080/"
        },
        "id": "ndTYm17cWLrX",
        "outputId": "ce7fc41e-5868-4c46-88d1-418f40e5a595"
      },
      "execution_count": 1,
      "outputs": [
        {
          "output_type": "stream",
          "name": "stdout",
          "text": [
            "First 5 rows:\n",
            "  species     island  bill_length_mm  bill_depth_mm  flipper_length_mm  \\\n",
            "0  Adelie  Torgersen            39.1           18.7              181.0   \n",
            "1  Adelie  Torgersen            39.5           17.4              186.0   \n",
            "2  Adelie  Torgersen            40.3           18.0              195.0   \n",
            "3  Adelie  Torgersen             NaN            NaN                NaN   \n",
            "4  Adelie  Torgersen            36.7           19.3              193.0   \n",
            "\n",
            "   body_mass_g     sex  \n",
            "0       3750.0    Male  \n",
            "1       3800.0  Female  \n",
            "2       3250.0  Female  \n",
            "3          NaN     NaN  \n",
            "4       3450.0  Female   \n",
            "\n",
            "Last 5 rows:\n",
            "    species  island  bill_length_mm  bill_depth_mm  flipper_length_mm  \\\n",
            "339  Gentoo  Biscoe             NaN            NaN                NaN   \n",
            "340  Gentoo  Biscoe            46.8           14.3              215.0   \n",
            "341  Gentoo  Biscoe            50.4           15.7              222.0   \n",
            "342  Gentoo  Biscoe            45.2           14.8              212.0   \n",
            "343  Gentoo  Biscoe            49.9           16.1              213.0   \n",
            "\n",
            "     body_mass_g     sex  \n",
            "339          NaN     NaN  \n",
            "340       4850.0  Female  \n",
            "341       5750.0    Male  \n",
            "342       5200.0  Female  \n",
            "343       5400.0    Male   \n",
            "\n",
            "DataFrame Info:\n",
            "<class 'pandas.core.frame.DataFrame'>\n",
            "RangeIndex: 344 entries, 0 to 343\n",
            "Data columns (total 7 columns):\n",
            " #   Column             Non-Null Count  Dtype  \n",
            "---  ------             --------------  -----  \n",
            " 0   species            344 non-null    object \n",
            " 1   island             344 non-null    object \n",
            " 2   bill_length_mm     342 non-null    float64\n",
            " 3   bill_depth_mm      342 non-null    float64\n",
            " 4   flipper_length_mm  342 non-null    float64\n",
            " 5   body_mass_g        342 non-null    float64\n",
            " 6   sex                333 non-null    object \n",
            "dtypes: float64(4), object(3)\n",
            "memory usage: 18.9+ KB\n",
            "None \n",
            "\n",
            "Descriptive Statistics:\n",
            "       bill_length_mm  bill_depth_mm  flipper_length_mm  body_mass_g\n",
            "count      342.000000     342.000000         342.000000   342.000000\n",
            "mean        43.921930      17.151170         200.915205  4201.754386\n",
            "std          5.459584       1.974793          14.061714   801.954536\n",
            "min         32.100000      13.100000         172.000000  2700.000000\n",
            "25%         39.225000      15.600000         190.000000  3550.000000\n",
            "50%         44.450000      17.300000         197.000000  4050.000000\n",
            "75%         48.500000      18.700000         213.000000  4750.000000\n",
            "max         59.600000      21.500000         231.000000  6300.000000 \n",
            "\n",
            "Original Columns: ['species', 'island', 'bill_length_mm', 'bill_depth_mm', 'flipper_length_mm', 'body_mass_g', 'sex'] \n",
            "\n",
            "Renamed Columns: ['bird_type', 'island', 'bill_length_mm', 'bill_depth_mm', 'flipper_length_mm', 'body_mass_g', 'sex'] \n",
            "\n",
            "Percentage of rows with missing values: 3.20%\n"
          ]
        }
      ]
    }
  ]
}