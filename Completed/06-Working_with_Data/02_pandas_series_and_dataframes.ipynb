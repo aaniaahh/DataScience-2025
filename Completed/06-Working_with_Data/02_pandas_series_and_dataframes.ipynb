{
  "nbformat": 4,
  "nbformat_minor": 0,
  "metadata": {
    "colab": {
      "provenance": [],
      "authorship_tag": "ABX9TyNhiK+b7qCJgg+Y3M/6FYzI",
      "include_colab_link": true
    },
    "kernelspec": {
      "name": "python3",
      "display_name": "Python 3"
    },
    "language_info": {
      "name": "python"
    }
  },
  "cells": [
    {
      "cell_type": "markdown",
      "metadata": {
        "id": "view-in-github",
        "colab_type": "text"
      },
      "source": [
        "<a href=\"https://colab.research.google.com/github/aaniaahh/DataScience-2025/blob/main/Completed/06-Working_with_Data/02_pandas_series_and_dataframes.ipynb\" target=\"_parent\"><img src=\"https://colab.research.google.com/assets/colab-badge.svg\" alt=\"Open In Colab\"/></a>"
      ]
    },
    {
      "cell_type": "markdown",
      "source": [
        "# 🐼 Notebook 02: Pandas Series and DataFrames\n",
        "Congratulations. You've graduated from lists and dictionaries — it’s time to wield a more powerful tool: **Pandas**.\n",
        "\n",
        "This notebook introduces you to the two most essential data structures in data science:\n",
        "* `Series`: a one-dimensional labeled array (like a dictionary and list had a well-organized child)\n",
        "* `DataFrame`: a two-dimensional table with labeled axes (basically Excel’s smarter cousin"
      ],
      "metadata": {
        "id": "n4fi3nqWGUNo"
      }
    },
    {
      "cell_type": "code",
      "execution_count": null,
      "metadata": {
        "id": "HAyZvR2aGAru"
      },
      "outputs": [],
      "source": [
        "import pandas as pd"
      ]
    },
    {
      "cell_type": "markdown",
      "source": [
        "## 🔢 Series from a List\n",
        "Simple but powerful — labels give it superpowers."
      ],
      "metadata": {
        "id": "ANMihCdhGojC"
      }
    },
    {
      "cell_type": "code",
      "source": [
        "# A Series from a list — just like a list, but fancier and labeled\n",
        "prices = pd.Series([2.99, 4.49, 1.99], index=[\"Apple\", \"Milk\", \"Bread\"])\n",
        "print(\"Grocery Prices:\")\n",
        "print(prices)\n",
        "\n",
        "# Accessing elements like a dictionary\n",
        "print(\"\\nPrice of Milk:\", prices[\"Milk\"])"
      ],
      "metadata": {
        "id": "e-P-LSPbGxAI"
      },
      "execution_count": null,
      "outputs": []
    },
    {
      "cell_type": "markdown",
      "source": [
        "## 🗺️ Series from a Dictionary\n",
        "Keys become the index — pretty intuitive, right?"
      ],
      "metadata": {
        "id": "iBLLJgHrGxkF"
      }
    },
    {
      "cell_type": "code",
      "source": [
        "population = {\n",
        "    \"Texas\": 29_000_000,\n",
        "    \"California\": 39_000_000,\n",
        "    \"New York\": 19_000_000\n",
        "}\n",
        "\n",
        "state_pop = pd.Series(population)\n",
        "print(\"State Populations:\")\n",
        "print(state_pop)\n",
        "\n",
        "# Series support math!\n",
        "print(\"\\nPopulation in millions:\")\n",
        "print(state_pop / 1_000_000)"
      ],
      "metadata": {
        "id": "a4DfbATkG2G4"
      },
      "execution_count": null,
      "outputs": []
    },
    {
      "cell_type": "markdown",
      "source": [
        "## 📋 Creating a DataFrame\n",
        "Like a spreadsheet, but you control the universe."
      ],
      "metadata": {
        "id": "YL1x7CZdG6qN"
      }
    },
    {
      "cell_type": "code",
      "source": [
        "# Creating a DataFrame — the bread and butter of Pandas\n",
        "data = {\n",
        "    \"Name\": [\"Alice\", \"Bob\", \"Charlie\", \"Diana\"],\n",
        "    \"GPA\": [3.9, 2.7, 3.4, 3.8],\n",
        "    \"Credits\": [90, 45, 60, 120],\n",
        "    \"Graduating\": [False, False, False, True]\n",
        "}\n",
        "\n",
        "students = pd.DataFrame(data)\n",
        "print(\"Student DataFrame:\")\n",
        "print(students)"
      ],
      "metadata": {
        "id": "wSPaETEPG_GQ"
      },
      "execution_count": null,
      "outputs": []
    },
    {
      "cell_type": "markdown",
      "source": [
        "## 🎯 Column Access + Row Access"
      ],
      "metadata": {
        "id": "_ZoOuM-9HCTD"
      }
    },
    {
      "cell_type": "code",
      "source": [
        "# Access a column\n",
        "print(\"\\nGPA column:\")\n",
        "print(students[\"GPA\"])\n",
        "\n",
        "# Access a row\n",
        "print(\"\\nCharlie's record:\")\n",
        "print(students.loc[2])"
      ],
      "metadata": {
        "id": "f7jxgVAXHFxy"
      },
      "execution_count": null,
      "outputs": []
    },
    {
      "cell_type": "markdown",
      "source": [
        "## 🧪 Inspect the DataFrame"
      ],
      "metadata": {
        "id": "BDw2kZQdHIXw"
      }
    },
    {
      "cell_type": "code",
      "source": [
        "# Shape and structure\n",
        "print(\"\\nShape:\", students.shape)\n",
        "print(\"\\nColumns:\", students.columns.tolist())\n",
        "\n",
        "# Info dump\n",
        "print(\"\\nDataFrame Info:\")\n",
        "print(students.info())\n",
        "\n",
        "# Stats summary\n",
        "print(\"\\nDataFrame Summary Stats:\")\n",
        "print(students.describe())"
      ],
      "metadata": {
        "id": "JYZun5WJHLfy"
      },
      "execution_count": null,
      "outputs": []
    },
    {
      "cell_type": "markdown",
      "source": [
        "## 🧼 Rename a Column"
      ],
      "metadata": {
        "id": "E1Uwb7zJHPmR"
      }
    },
    {
      "cell_type": "code",
      "source": [
        "students.rename(columns={\"Graduating\": \"Is_Graduating\"}, inplace=True)\n",
        "print(\"\\nRenamed column:\")\n",
        "print(students.head())"
      ],
      "metadata": {
        "id": "OGCLY2mPHSv1"
      },
      "execution_count": null,
      "outputs": []
    },
    {
      "cell_type": "markdown",
      "source": [
        "## 🔍 Your Turn\n",
        "1. Create a `Series` from a dictionary of state abbreviations to population (use fake or real data).\n",
        "2. Create a `DataFrame` for 5 students with columns: `Name`, `GPA`, `Credits`, `Graduating` (True/False).\n",
        "3. Try accessing a row using `.loc[]` and a column using bracket notation.\n",
        "4. Print the `.shape`, `.columns`, and `.info()` of your DataFrame.\n",
        "\n",
        "🎯 **Bonus**: Rename a column just to mess with the future grader."
      ],
      "metadata": {
        "id": "gUVrFjqjHZVQ"
      }
    },
    {
      "cell_type": "code",
      "source": [
        "# 1.\n",
        "import pandas as pd\n",
        "\n",
        "# Dictionary of state abbreviations and population (fake but realistic data)\n",
        "statePopulation = {\n",
        "    \"TX\": 29900000,\n",
        "    \"CA\": 39100000,\n",
        "    \"NY\": 19500000,\n",
        "    \"FL\": 22300000,\n",
        "    \"OH\": 12500000\n",
        "}\n",
        "\n",
        "# Create a Series\n",
        "popSeries = pd.Series(statePopulation)\n",
        "\n",
        "print(\"State Population Series:\")\n",
        "print(popSeries)\n"
      ],
      "metadata": {
        "id": "4WlSm7WGKqA8"
      },
      "execution_count": null,
      "outputs": []
    },
    {
      "cell_type": "code",
      "source": [
        "# 2.\n",
        "# Create a DataFrame for 5 students\n",
        "students = pd.DataFrame({\n",
        "    \"Name\": [\"Aniah\", \"Asia\", \"Taylor\", \"Kenna\", \"Abby\"],\n",
        "    \"GPA\": [3.9, 3.7, 4.0, 3.8, 3.6],\n",
        "    \"Credits\": [120, 115, 130, 100, 90],\n",
        "    \"Graduating\": [True, True, True, False, False]\n",
        "})\n",
        "\n",
        "print(\"This is # 2:\")\n",
        "print(\"\\nStudent DataFrame:\")\n",
        "print(students)\n",
        "\n",
        "# 3.\n",
        "# Access a row\n",
        "print(\"\\nThis is # 3:\")\n",
        "print(\"\\nAccessing Kenna's row:\")\n",
        "print(students.loc[3])  # Jordan’s row\n",
        "\n",
        "# Access a column (GPA)\n",
        "print(\"\\nAccessing the GPA column using bracket notation:\")\n",
        "print(students[\"GPA\"])\n",
        "\n",
        "# 4.\n",
        "#Print the .shape, .columns, and .info() of your DataFrame.\n",
        "print(\"\\nThis is # 4:\")\n",
        "print(\"\\nShape of DataFrame:\", students.shape)\n",
        "print(\"Columns:\", students.columns)\n",
        "print(\"\\nInfo about DataFrame:\")\n",
        "print(students.info())\n",
        "\n",
        "# Bonus.\n",
        "print(\"\\nThis is the bonus:\")\n",
        "# Rename the 'GPA' column to 'Smartness_Level'\n",
        "students.rename(columns={\"GPA\": \"Smartness Level\"}, inplace=True)\n",
        "print(\"\\nDataFrame after renaming a column:\")\n",
        "print(students)\n"
      ],
      "metadata": {
        "id": "PUOKjZRiLCfm"
      },
      "execution_count": null,
      "outputs": []
    },
    {
      "cell_type": "markdown",
      "source": [
        "## 📎 Side Notes\n",
        "* A `Series` is like a single column of a spreadsheet.\n",
        "* A `DataFrame` is like the full spreadsheet.\n",
        "* Rows and columns can both have labels (called the **index** and **columns**).\n"
      ],
      "metadata": {
        "id": "iFi0F9vfKqTt"
      }
    }
  ]
}