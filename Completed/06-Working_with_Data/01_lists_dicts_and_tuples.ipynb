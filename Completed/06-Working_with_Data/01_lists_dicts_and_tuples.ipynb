{
  "nbformat": 4,
  "nbformat_minor": 0,
  "metadata": {
    "colab": {
      "provenance": [],
      "authorship_tag": "ABX9TyNNRZqBm7nLk78USSIqBt1b",
      "include_colab_link": true
    },
    "kernelspec": {
      "name": "python3",
      "display_name": "Python 3"
    },
    "language_info": {
      "name": "python"
    }
  },
  "cells": [
    {
      "cell_type": "markdown",
      "metadata": {
        "id": "view-in-github",
        "colab_type": "text"
      },
      "source": [
        "<a href=\"https://colab.research.google.com/github/aaniaahh/DataScience-2025/blob/main/Completed/06-Working_with_Data/01_lists_dicts_and_tuples.ipynb\" target=\"_parent\"><img src=\"https://colab.research.google.com/assets/colab-badge.svg\" alt=\"Open In Colab\"/></a>"
      ]
    },
    {
      "cell_type": "markdown",
      "source": [
        "# 🧠 Notebook 01: Lists, Dicts, Tuples, and Sets (Oh My!)\n",
        "Welcome, data tamer. Before we dance with DataFrames and juggle Series, we must revisit the sacred scrolls of Python's core data structures.\n",
        "\n",
        "In this notebook, you will:\n",
        "\n",
        "* Recap the mighty `list`, `dict`, `tuple`, and `set`\n",
        "* Learn what makes each special (besides being annoying to explain at parties)\n",
        "* Practice slicing, accessing, and modifying them\n",
        "* Build up intuition for working with structured data"
      ],
      "metadata": {
        "id": "BJuUnlyg5DUe"
      }
    },
    {
      "cell_type": "markdown",
      "source": [
        "## 🧺 Lists\n",
        "`list`: Ordered, mutable, and basically the cargo pants of Python."
      ],
      "metadata": {
        "id": "wX-AFiAB5YBT"
      }
    },
    {
      "cell_type": "code",
      "execution_count": null,
      "metadata": {
        "id": "dmKtAWY848jK"
      },
      "outputs": [],
      "source": [
        "fruits = [\"apple\", \"banana\", \"cherry\", \"dragonfruit\"]\n",
        "print(\"First fruit:\", fruits[0])\n",
        "print(\"Last fruit:\", fruits[-1])\n",
        "\n",
        "fruits.append(\"elderberry\")\n",
        "print(\"Updated list:\", fruits)"
      ]
    },
    {
      "cell_type": "markdown",
      "source": [
        "## 🔐 Tuples\n",
        "`tuple`: Like lists, but committed — they don’t change. Perfect for fixed data."
      ],
      "metadata": {
        "id": "lNHRsjqZ5vgQ"
      }
    },
    {
      "cell_type": "code",
      "source": [
        "coordinates = (34.05, -118.25)  # Latitude, Longitude\n",
        "print(\"Coordinates:\", coordinates)\n",
        "\n",
        "# Uncomment this to see Python throw a tantrum\n",
        "# coordinates[0] = 0"
      ],
      "metadata": {
        "colab": {
          "base_uri": "https://localhost:8080/"
        },
        "id": "YGK1frdV56Sx",
        "outputId": "e331a324-121c-4c28-acf3-80e0c596fd6d"
      },
      "execution_count": 6,
      "outputs": [
        {
          "output_type": "stream",
          "name": "stdout",
          "text": [
            "Coordinates: (34.05, -118.25)\n"
          ]
        }
      ]
    },
    {
      "cell_type": "markdown",
      "source": [
        "## 📦 Dictionaries\n",
        "`dict`: Key-value pairs. Like JSON, but with fewer quotation marks and more sarcasm."
      ],
      "metadata": {
        "id": "_jJekI_L56_7"
      }
    },
    {
      "cell_type": "code",
      "source": [
        "student = {\n",
        "    \"name\": \"Alice\",\n",
        "    \"GPA\": 3.9,\n",
        "    \"major\": \"Data Science\"\n",
        "}\n",
        "\n",
        "print(\"Student name:\", student[\"name\"])\n",
        "print(\"GPA using .get():\", student.get(\"GPA\"))\n",
        "\n",
        "student[\"minor\"] = \"Philosophy\"\n",
        "print(\"Updated dictionary:\", student)"
      ],
      "metadata": {
        "id": "WWuPBc-Y6BAf"
      },
      "execution_count": null,
      "outputs": []
    },
    {
      "cell_type": "markdown",
      "source": [
        "## 🎯 Sets\n",
        "`set`: Unordered, unique values only. Great for removing duplicates or doing cool mathy stuff."
      ],
      "metadata": {
        "id": "s9gEZ6PA6EXq"
      }
    },
    {
      "cell_type": "code",
      "source": [
        "courses = {\"CS101\", \"CS102\", \"CS103\", \"CS101\"}  # Duplicate ignored\n",
        "print(\"Courses:\", courses)\n",
        "\n",
        "print(\"Is CS102 in the set?\", \"CS102\" in courses)\n",
        "\n",
        "courses.add(\"CS104\")\n",
        "courses.discard(\"CS101\")\n",
        "print(\"Modified courses:\", courses)"
      ],
      "metadata": {
        "id": "M2uI2CTn6NR9"
      },
      "execution_count": null,
      "outputs": []
    },
    {
      "cell_type": "markdown",
      "source": [
        "## 🧰 Your Turn\n",
        "1. Create a list of your top 5 favorite foods. Print the last item using a negative index.\n",
        "2. Create a dictionary that maps student names to GPA (be kind). Add a new student.\n",
        "3. Make a tuple of the days of the week. Try to change one. Document what happens.\n",
        "4. Create a set of course names. Add a duplicate. Reflect on how sets feel about duplicates.\n",
        "\n",
        "🎯 **Bonus**: Use a list comprehension to build a list of all squares from 1–20."
      ],
      "metadata": {
        "id": "hccl2oPK6RNX"
      }
    },
    {
      "cell_type": "code",
      "source": [
        "# 1.\n",
        "# Create a list of your top 5 favorite foods.\n",
        "foods = [\"seafood\", \"bbq\", \"tacos\", \"grapes\", \"steak\"]\n",
        "\n",
        "#  Print the last item using a negative index.\n",
        "print(\"First foods:\", foods[0])\n",
        "print(\"Last foods:\", foods[-1])"
      ],
      "metadata": {
        "colab": {
          "base_uri": "https://localhost:8080/"
        },
        "id": "kq3EQpDC6g4_",
        "outputId": "029dde34-bb81-443e-fa2c-9dd98361cee2"
      },
      "execution_count": 2,
      "outputs": [
        {
          "output_type": "stream",
          "name": "stdout",
          "text": [
            "First foods: seafood\n",
            "Last foods: steak\n"
          ]
        }
      ]
    },
    {
      "cell_type": "code",
      "source": [
        "# 2.\n",
        "# Create a dictionary that maps student names to GPA.\n",
        "studentGPA = {\n",
        "    \"Audie\" : 3.6,\n",
        "    \"Steven\": 3.4,\n",
        "    \"Virginia\": 3.7\n",
        "}\n",
        "\n",
        "# Add a new student.\n",
        "studentGPA[\"AJ\"] = 3.5\n",
        "\n",
        "print(\"Updated dictionary:\", studentGPA)\n",
        "\n",
        "for name, gpa in studentGPA.items():\n",
        "    print(f\"{name}: {gpa}\")"
      ],
      "metadata": {
        "colab": {
          "base_uri": "https://localhost:8080/"
        },
        "id": "-6swmmAG7pSF",
        "outputId": "86bcf4c3-cd95-4337-d67b-804f2bb910f5"
      },
      "execution_count": 4,
      "outputs": [
        {
          "output_type": "stream",
          "name": "stdout",
          "text": [
            "Updated dictionary: {'Audie': 3.6, 'Steven': 3.4, 'Virginia': 3.7, 'AJ': 3.5}\n",
            "Audie: 3.6\n",
            "Steven: 3.4\n",
            "Virginia: 3.7\n",
            "AJ: 3.5\n"
          ]
        }
      ]
    },
    {
      "cell_type": "code",
      "source": [
        "# 3.\n",
        "# Make a tuple of the days of the week.\n",
        "DOTW = (\"Sunday\",\"Monday\",\"Tuesday\",\"Wednesday\", \"Thursday\", \"Friday\", \"Saturday\")\n",
        "\n",
        "# Try to change one.\n",
        "# Uncomment the next line then run the code.\n",
        "#DOTW[2]= \"Sunday\"\n",
        "\n",
        "print(\"Days of the week:\", DOTW)\n"
      ],
      "metadata": {
        "colab": {
          "base_uri": "https://localhost:8080/"
        },
        "id": "KBVbcrwx7pFB",
        "outputId": "fcf4de15-a24d-4193-f8e4-5e662acd59c2"
      },
      "execution_count": 9,
      "outputs": [
        {
          "output_type": "stream",
          "name": "stdout",
          "text": [
            "Days of the week: ('Sunday', 'Monday', 'Tuesday', 'Wednesday', 'Thursday', 'Friday', 'Saturday')\n"
          ]
        }
      ]
    },
    {
      "cell_type": "code",
      "source": [
        "# 4.\n",
        "#Create a set of course names.\n",
        "courses = {\"MATH3753\", \"MATH1233\", \"MATH3533\", \"CMPS3603\"}\n",
        "print(\"Courses:\", courses)\n",
        "\n",
        "print(\"Is CMPS3603 in the set?\", \"CMPS3603\" in courses)\n",
        "\n",
        "#Add a duplicate.\n",
        "courses.add(\"MATH1233\")\n",
        "courses.discard(\"MATH3533\")\n",
        "print(\"Modified courses:\", courses)"
      ],
      "metadata": {
        "colab": {
          "base_uri": "https://localhost:8080/"
        },
        "id": "Qk58rsZf7oyu",
        "outputId": "8aa66f9e-59d8-412b-d586-a24970d13a14"
      },
      "execution_count": 10,
      "outputs": [
        {
          "output_type": "stream",
          "name": "stdout",
          "text": [
            "Courses: {'CMPS3603', 'MATH1233', 'MATH3753', 'MATH3533'}\n",
            "Is CMPS3603 in the set? True\n",
            "Modified courses: {'CMPS3603', 'MATH1233', 'MATH3753'}\n"
          ]
        }
      ]
    },
    {
      "cell_type": "code",
      "source": [
        "# Bonus\n",
        "# Build a list of all squares from 1 to 20\n",
        "squares = [x*x for x in range(1, 21)]\n",
        "\n",
        "print(\"Squares from 1 to 20:\")\n",
        "print(squares)"
      ],
      "metadata": {
        "colab": {
          "base_uri": "https://localhost:8080/"
        },
        "id": "PBmm98ILDeNw",
        "outputId": "13d8616a-c7b2-4f1f-d30c-a391f00ffc92"
      },
      "execution_count": 12,
      "outputs": [
        {
          "output_type": "stream",
          "name": "stdout",
          "text": [
            "Squares from 1 to 20:\n",
            "[1, 4, 9, 16, 25, 36, 49, 64, 81, 100, 121, 144, 169, 196, 225, 256, 289, 324, 361, 400]\n"
          ]
        }
      ]
    },
    {
      "cell_type": "markdown",
      "source": [
        "## 🧼 Why This Matters\n",
        "Before we start feeding `.csv` files into Pandas like a malfunctioning vending machine, we need to truly feel how data is structured. These built-in types help shape, store, and manipulate everything we’ll touch from here on."
      ],
      "metadata": {
        "id": "hVip6gsn6i8p"
      }
    }
  ]
}