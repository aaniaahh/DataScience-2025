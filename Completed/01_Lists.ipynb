{
  "nbformat": 4,
  "nbformat_minor": 0,
  "metadata": {
    "colab": {
      "provenance": [],
      "authorship_tag": "ABX9TyMALT69H/lz8fNhi3YgyGMZ",
      "include_colab_link": true
    },
    "kernelspec": {
      "name": "python3",
      "display_name": "Python 3"
    },
    "language_info": {
      "name": "python"
    }
  },
  "cells": [
    {
      "cell_type": "markdown",
      "metadata": {
        "id": "view-in-github",
        "colab_type": "text"
      },
      "source": [
        "<a href=\"https://colab.research.google.com/github/aaniaahh/DataScience-2025/blob/main/Completed/01_Lists.ipynb\" target=\"_parent\"><img src=\"https://colab.research.google.com/assets/colab-badge.svg\" alt=\"Open In Colab\"/></a>"
      ]
    },
    {
      "cell_type": "markdown",
      "source": [
        "# 📘 01 - Python Lists\n",
        "Explore how to use lists to store and manipulate data.\n",
        "\n",
        "## ✅ Learning Goals\n",
        "\n",
        "* Create and modify Python lists\n",
        "* Access elements using indexing\n",
        "* Use list methods like `append()`, `remove()`, and `sort()`"
      ],
      "metadata": {
        "id": "-oi9oXS-__Uk"
      }
    },
    {
      "cell_type": "code",
      "source": [
        "# 🔧 Create a List\n",
        "my_list = [10, 20, 30, 40, 50]\n",
        "print(my_list)"
      ],
      "metadata": {
        "id": "fq6j_XOMAFEx"
      },
      "execution_count": null,
      "outputs": []
    },
    {
      "cell_type": "code",
      "source": [
        "# 🎯 Access Elements\n",
        "print('First item:', my_list[0])\n",
        "print('Last item:', my_list[-1])\n",
        "# ➕ Modify List\n",
        "my_list.append(60)\n",
        "my_list.remove(30)\n",
        "print(my_list)"
      ],
      "metadata": {
        "id": "Mqze1YsyARkT"
      },
      "execution_count": null,
      "outputs": []
    },
    {
      "cell_type": "code",
      "execution_count": null,
      "metadata": {
        "id": "FGJSLUht0OgY"
      },
      "outputs": [],
      "source": [
        "# 🔁 Loop Through List\n",
        "for item in my_list:\n",
        "    print(item)"
      ]
    },
    {
      "cell_type": "markdown",
      "source": [
        "## ✏️ My Turn\n",
        "\n",
        "I will create my own list of 5 movies and it'll sort them alphabetically."
      ],
      "metadata": {
        "id": "BImHoExv_8-m"
      }
    },
    {
      "cell_type": "code",
      "source": [
        "# Create a list of favorite movies\n",
        "movies = [\"Norbit\", \"Major Payne\", \"Interstellar\", \"The Notebook\", \"Avengers: Endgame\"]\n",
        "\n",
        "# Sort the list alphabetically\n",
        "movies.sort()\n",
        "\n",
        "# Print the sorted list\n",
        "print(\"My favorite movies are (alphabetical):\")\n",
        "for movie in movies:\n",
        "    print(movie)"
      ],
      "metadata": {
        "colab": {
          "base_uri": "https://localhost:8080/"
        },
        "id": "LHJYVNa1UO08",
        "outputId": "bc50d908-31a8-4a05-a7ca-e433410073eb"
      },
      "execution_count": null,
      "outputs": [
        {
          "output_type": "stream",
          "name": "stdout",
          "text": [
            "My favorite movies are (alphabetical):\n",
            "Avengers: Endgame\n",
            "Interstellar\n",
            "Major Payne\n",
            "Norbit\n",
            "The Notebook\n"
          ]
        }
      ]
    }
  ]
}