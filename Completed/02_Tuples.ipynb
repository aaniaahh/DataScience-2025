{
  "nbformat": 4,
  "nbformat_minor": 0,
  "metadata": {
    "colab": {
      "provenance": [],
      "authorship_tag": "ABX9TyNV5tIioLJI4IhOdqSV9P2L",
      "include_colab_link": true
    },
    "kernelspec": {
      "name": "python3",
      "display_name": "Python 3"
    },
    "language_info": {
      "name": "python"
    }
  },
  "cells": [
    {
      "cell_type": "markdown",
      "metadata": {
        "id": "view-in-github",
        "colab_type": "text"
      },
      "source": [
        "<a href=\"https://colab.research.google.com/github/aaniaahh/DataScience-2025/blob/main/Completed/02_Tuples.ipynb\" target=\"_parent\"><img src=\"https://colab.research.google.com/assets/colab-badge.svg\" alt=\"Open In Colab\"/></a>"
      ]
    },
    {
      "cell_type": "markdown",
      "source": [
        "# 📘 02 - Python Tuples\n",
        "Learn what tuples are and how to use them.\n",
        "\n",
        "## ✅ Learning Goals\n",
        "* Create and access tuples\n",
        "* Understand immutability\n",
        "* Use tuple unpacking"
      ],
      "metadata": {
        "id": "B-ENakNTXzI2"
      }
    },
    {
      "cell_type": "code",
      "execution_count": null,
      "metadata": {
        "id": "OA9vslFAXrbv"
      },
      "outputs": [],
      "source": [
        "# 🔧 Create a Tuple\n",
        "coords = (5, 10)\n",
        "print(coords)"
      ]
    },
    {
      "cell_type": "markdown",
      "source": [
        "# 🚫 Tuples are immutable\n",
        "Try uncommenting the line below to see what happens:"
      ],
      "metadata": {
        "id": "Nc8kRFfQXwzA"
      }
    },
    {
      "cell_type": "markdown",
      "source": [],
      "metadata": {
        "id": "nxw-P_VgbJYx"
      }
    },
    {
      "cell_type": "markdown",
      "source": [
        "#✏️ My Turn\n",
        "I'll create a tuple to store your birthday as (month, day, year)."
      ],
      "metadata": {
        "id": "yJEa0OpmcTHR"
      }
    },
    {
      "cell_type": "code",
      "source": [
        "# Storing birthday as (month, day, year)\n",
        "birthday = (\"December\", 22, 2001)\n",
        "\n",
        "print(birthday)\n"
      ],
      "metadata": {
        "colab": {
          "base_uri": "https://localhost:8080/"
        },
        "id": "n4qxs6xWeGlW",
        "outputId": "aa4d5ec3-2b84-4266-c607-480d5e233d26"
      },
      "execution_count": 1,
      "outputs": [
        {
          "output_type": "stream",
          "name": "stdout",
          "text": [
            "('December', 22, 2001)\n"
          ]
        }
      ]
    }
  ]
}