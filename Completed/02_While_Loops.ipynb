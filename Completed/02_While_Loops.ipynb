{
  "nbformat": 4,
  "nbformat_minor": 0,
  "metadata": {
    "colab": {
      "provenance": [],
      "authorship_tag": "ABX9TyNOTRCO+VDzgMCQoMymbxOe",
      "include_colab_link": true
    },
    "kernelspec": {
      "name": "python3",
      "display_name": "Python 3"
    },
    "language_info": {
      "name": "python"
    }
  },
  "cells": [
    {
      "cell_type": "markdown",
      "metadata": {
        "id": "view-in-github",
        "colab_type": "text"
      },
      "source": [
        "<a href=\"https://colab.research.google.com/github/aaniaahh/DataScience-2025/blob/main/Completed/02_While_Loops.ipynb\" target=\"_parent\"><img src=\"https://colab.research.google.com/assets/colab-badge.svg\" alt=\"Open In Colab\"/></a>"
      ]
    },
    {
      "cell_type": "markdown",
      "source": [
        "# 📘 02 - While Loops\n",
        "Learn how to repeat logic using conditions.\n",
        "\n",
        "## ✅ Learning Goals\n",
        "* Use while with a condition\n",
        "* Understand infinite loops and loop control"
      ],
      "metadata": {
        "id": "NgpovnM4kPOD"
      }
    },
    {
      "cell_type": "code",
      "execution_count": null,
      "metadata": {
        "id": "rLAYm6QRkEIn"
      },
      "outputs": [],
      "source": [
        "# 🔁 Count up to 5\n",
        "counter = 1\n",
        "while counter <= 5:\n",
        "    print('Count:', counter)\n",
        "    counter += 1"
      ]
    },
    {
      "cell_type": "code",
      "source": [
        "# 🚫 Avoid infinite loop\n",
        "x = 0\n",
        "while x < 3:\n",
        "    print('x is', x)\n",
        "    x += 1"
      ],
      "metadata": {
        "id": "UVgnOVOwkddM"
      },
      "execution_count": null,
      "outputs": []
    },
    {
      "cell_type": "code",
      "source": [
        "# ⚠️ Break and continue\n",
        "n = 0\n",
        "while True:\n",
        "    n += 1\n",
        "    if n == 3:\n",
        "        continue\n",
        "    if n == 6:\n",
        "        break\n",
        "    print(n)"
      ],
      "metadata": {
        "id": "yaJvL-lSkgyU"
      },
      "execution_count": null,
      "outputs": []
    },
    {
      "cell_type": "markdown",
      "source": [
        "## ✏️ Your Turn\n",
        "Use a while loop to print numbers 10 to 1 in reverse."
      ],
      "metadata": {
        "id": "4yoa1mbAkl7W"
      }
    },
    {
      "cell_type": "code",
      "source": [
        "counter = 10\n",
        "while counter > 0:\n",
        "    print('Count:', counter)\n",
        "    counter = counter - 1"
      ],
      "metadata": {
        "colab": {
          "base_uri": "https://localhost:8080/"
        },
        "id": "p7ilNHERkrX6",
        "outputId": "6694c44c-ffb2-4deb-febd-22c8d2a6f443"
      },
      "execution_count": null,
      "outputs": [
        {
          "output_type": "stream",
          "name": "stdout",
          "text": [
            "Count: 10\n",
            "Count: 9\n",
            "Count: 8\n",
            "Count: 7\n",
            "Count: 6\n",
            "Count: 5\n",
            "Count: 4\n",
            "Count: 3\n",
            "Count: 2\n",
            "Count: 1\n"
          ]
        }
      ]
    }
  ]
}