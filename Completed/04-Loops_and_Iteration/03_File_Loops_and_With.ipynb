{
  "nbformat": 4,
  "nbformat_minor": 0,
  "metadata": {
    "colab": {
      "provenance": [],
      "authorship_tag": "ABX9TyOFWATvjxWTRuG9x3VVZ6er",
      "include_colab_link": true
    },
    "kernelspec": {
      "name": "python3",
      "display_name": "Python 3"
    },
    "language_info": {
      "name": "python"
    }
  },
  "cells": [
    {
      "cell_type": "markdown",
      "metadata": {
        "id": "view-in-github",
        "colab_type": "text"
      },
      "source": [
        "<a href=\"https://colab.research.google.com/github/aaniaahh/DataScience-2025/blob/main/Completed/03_File_Loops_and_With.ipynb\" target=\"_parent\"><img src=\"https://colab.research.google.com/assets/colab-badge.svg\" alt=\"Open In Colab\"/></a>"
      ]
    },
    {
      "cell_type": "markdown",
      "source": [
        "# 📘 03 - File Loops and `with`\n",
        "Use `with open(...)` to read files and process content.\n",
        "\n",
        "## ✅ Learning Goals\n",
        "* Open and read files using `with`\n",
        "* Loop over lines in a file\n",
        "* Use `.strip()` and `.split()` to process text"
      ],
      "metadata": {
        "id": "5HqnxTRknenY"
      }
    },
    {
      "cell_type": "code",
      "execution_count": null,
      "metadata": {
        "id": "jAmP1fIYnbUY"
      },
      "outputs": [],
      "source": [
        "# 📝 Sample file read\n",
        "with open('sample.txt', 'r') as file:\n",
        "    for line in file:\n",
        "        print(line.strip())"
      ]
    },
    {
      "cell_type": "code",
      "source": [
        "# 🔍 Process each line\n",
        "with open('sample.txt', 'r') as f:\n",
        "    for line in f:\n",
        "        parts = line.strip().split(',')\n",
        "        print('Parts:', parts)"
      ],
      "metadata": {
        "id": "V0lrbREdqkaP"
      },
      "execution_count": null,
      "outputs": []
    },
    {
      "cell_type": "markdown",
      "source": [
        "## ✏️ Your Turn\n",
        "Open a text file and print all lines that contain more than 3 words."
      ],
      "metadata": {
        "id": "mdo0x7yvqlaV"
      }
    },
    {
      "cell_type": "code",
      "source": [
        "# Open the file\n",
        "with open(\"sample.txt\", \"r\") as file:\n",
        "    for line in file:\n",
        "        # Split the line into words\n",
        "        words = line.split()\n",
        "        # Check if the line has more than 3 words\n",
        "        if len(words) > 3:\n",
        "            print(line.strip())\n"
      ],
      "metadata": {
        "id": "NihZcbErqpRU"
      },
      "execution_count": null,
      "outputs": []
    }
  ]
}