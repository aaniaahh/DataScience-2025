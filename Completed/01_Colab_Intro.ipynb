{
  "nbformat": 4,
  "nbformat_minor": 0,
  "metadata": {
    "colab": {
      "provenance": [],
      "authorship_tag": "ABX9TyPyCwS7osGBfttWQAwtx8du",
      "include_colab_link": true
    },
    "kernelspec": {
      "name": "python3",
      "display_name": "Python 3"
    },
    "language_info": {
      "name": "python"
    }
  },
  "cells": [
    {
      "cell_type": "markdown",
      "metadata": {
        "id": "view-in-github",
        "colab_type": "text"
      },
      "source": [
        "<a href=\"https://colab.research.google.com/github/aaniaahh/DataScience-2025/blob/main/Completed/01_Colab_Intro.ipynb\" target=\"_parent\"><img src=\"https://colab.research.google.com/assets/colab-badge.svg\" alt=\"Open In Colab\"/></a>"
      ]
    },
    {
      "cell_type": "markdown",
      "source": [
        "# 📘 01 - Colab Intro\n",
        "Welcome to your first notebook in Google Colab!\n",
        "\n",
        "## ✅ Learning Goals\n",
        "* Run cells in a notebook\n",
        "* Edit Markdown and code\n",
        "* Save a copy to your own Drive"
      ],
      "metadata": {
        "id": "Gs_xKnXa4-SG"
      }
    },
    {
      "cell_type": "code",
      "execution_count": null,
      "metadata": {
        "id": "1v1Tm1Rw46fn"
      },
      "outputs": [],
      "source": [
        "# 👋 Try running this cell!\n",
        "print('Hello, Data Science World!')"
      ]
    },
    {
      "cell_type": "markdown",
      "source": [
        "## ✏️ Your Turn\n",
        "Modify the code below to print your name."
      ],
      "metadata": {
        "id": "vfslFKte57JI"
      }
    },
    {
      "cell_type": "code",
      "source": [
        "# Place your name in between ' '\n",
        "print('Aniah')"
      ],
      "metadata": {
        "id": "iZGhzNYK57gq"
      },
      "execution_count": null,
      "outputs": []
    }
  ]
}