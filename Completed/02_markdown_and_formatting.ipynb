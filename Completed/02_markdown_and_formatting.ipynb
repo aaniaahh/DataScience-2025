{
  "nbformat": 4,
  "nbformat_minor": 0,
  "metadata": {
    "colab": {
      "provenance": [],
      "authorship_tag": "ABX9TyOim4nlFu6FLZoaCWyOagJf",
      "include_colab_link": true
    },
    "kernelspec": {
      "name": "python3",
      "display_name": "Python 3"
    },
    "language_info": {
      "name": "python"
    }
  },
  "cells": [
    {
      "cell_type": "markdown",
      "metadata": {
        "id": "view-in-github",
        "colab_type": "text"
      },
      "source": [
        "<a href=\"https://colab.research.google.com/github/aaniaahh/DataScience-2025/blob/main/Completed/02_markdown_and_formatting.ipynb\" target=\"_parent\"><img src=\"https://colab.research.google.com/assets/colab-badge.svg\" alt=\"Open In Colab\"/></a>"
      ]
    },
    {
      "cell_type": "markdown",
      "source": [
        "# 📝 02 - Markdown and Formatting\n",
        "Jupyter notebooks are not just for code — you can mix **Markdown** and code to create clear, professional-looking reports.\n",
        "\n",
        "This notebook introduces:\n",
        "\n",
        "* Writing Markdown cells (headings, lists, links)\n",
        "* Adding inline **LaTeX math**\n",
        "* Embedding images\n",
        "* Why formatting matters in data science communication"
      ],
      "metadata": {
        "id": "w-CizYiBVsVv"
      }
    },
    {
      "cell_type": "markdown",
      "source": [
        "## 1. Headings and Text Styles\n",
        "### Example\n",
        "\n",
        "# Heading 1\n",
        "## Heading 2\n",
        "### Heading 3\n",
        "**Bold text**, *italic text*, `inline code`\n",
        "\n",
        "✅ **Your Turn:**\n",
        "Create a cell with the heading ## My Favorite Data Tools and list at least three tools in bold.\n",
        "\n",
        "## My Favorite Data Tools\n",
        "**1. Matplotlib - 2D data visualization**\n",
        "\n",
        "**2. NumPy - numerical computing with arrays**\n",
        "\n",
        "**3. Pandas - data manipulation and analysis**"
      ],
      "metadata": {
        "id": "bq68gLgCYQX8"
      }
    },
    {
      "cell_type": "markdown",
      "source": [
        "## 2. Lists\n",
        "### Example\n",
        "\n",
        "* Item 1\n",
        "* Item 2\n",
        "  * Sub-item 2a\n",
        "  * Sub-item 2b\n",
        "1. First\n",
        "2. Second\n",
        "3. Third\n",
        "\n",
        "✅ **Your Turn:** Make an ordered list of your top 3 programming languages.\n",
        "\n",
        "**My Top 3 Programming Languages:**\n",
        "1. C++\n",
        "2. Python\n",
        "3. C#"
      ],
      "metadata": {
        "id": "harTFsDlYQz-"
      }
    },
    {
      "cell_type": "markdown",
      "source": [
        "## 3. Links and Images\n",
        "### Links\n",
        "[OpenAI](https://openai.com/)\n",
        "\n",
        "### Images\n",
        "\n",
        "\n",
        "✅ **Your Turn:** Insert a link to your favorite website and embed an image (can be a URL or local file).\n",
        "\n",
        "[CoolMath](https://www.coolmathgames.com/)\n"
      ],
      "metadata": {
        "id": "xIyovHlhamaS"
      }
    },
    {
      "cell_type": "markdown",
      "source": [
        "## 4. LaTeX Math\n",
        "You can render math using LaTeX syntax inside `$ ... $` for inline or `$$ ... $$` for block math.\n",
        "\n",
        "### Example:\n",
        "Inline: $E = mc^2$\n",
        "\n",
        "Block: $$ \\frac{∂f}{∂x} = 2x $$\n",
        "\n",
        "✅ **Your Turn:** Write the quadratic formula in LaTeX.\n",
        "\n",
        "$$ x = \\frac{-b \\pm \\sqrt{b^2-4ac}}{2a} $$"
      ],
      "metadata": {
        "id": "YpJq0rnqbd2j"
      }
    },
    {
      "cell_type": "markdown",
      "source": [
        "## 5. Mixing Code and Markdown"
      ],
      "metadata": {
        "id": "YXOmvM_9dZN0"
      }
    },
    {
      "cell_type": "code",
      "source": [
        "# Example: create data in Python\n",
        "numbers = [1, 2, 3, 4, 5]\n",
        "squares = [n**2 for n in numbers]\n",
        "squares"
      ],
      "metadata": {
        "id": "ryOFhOZSdZt4"
      },
      "execution_count": null,
      "outputs": []
    },
    {
      "cell_type": "markdown",
      "source": [
        "Now we explain results in Markdown:\n",
        "* The list `numbers` contained 1–5.\n",
        "* The list `squares` contains each number squared.\n",
        "* Mixing narrative + results is why notebooks are so powerful.\n",
        "\n",
        "✅ **Your Turn:** Create a list of 3 numbers, calculate their cubes in code, then explain in Markdown."
      ],
      "metadata": {
        "id": "GAK3eiaGdgPp"
      }
    },
    {
      "cell_type": "code",
      "source": [
        "nums = [4, 25, 38]\n",
        "squares = [n*n for n in nums]\n",
        "squares"
      ],
      "metadata": {
        "colab": {
          "base_uri": "https://localhost:8080/"
        },
        "id": "pKSR0wKzd7d0",
        "outputId": "d815fb8f-32df-4764-c098-bc36fba1a410"
      },
      "execution_count": 1,
      "outputs": [
        {
          "output_type": "execute_result",
          "data": {
            "text/plain": [
              "[16, 625, 1444]"
            ]
          },
          "metadata": {},
          "execution_count": 1
        }
      ]
    },
    {
      "cell_type": "markdown",
      "source": [
        "Now we explain results in Markdown:\n",
        "* The list `nums` contains 4, 25, 38.\n",
        "* The list `squares` contains each number squared."
      ],
      "metadata": {
        "id": "lMqHyvC8d72b"
      }
    },
    {
      "cell_type": "markdown",
      "source": [
        "Summary\n",
        "* Use headings and formatting to organize.\n",
        "* Lists and links make content readable.\n",
        "* LaTeX lets you add professional math.\n",
        "* Combine code + Markdown for clear data storytelling."
      ],
      "metadata": {
        "id": "JalWVPxwdu_i"
      }
    }
  ]
}