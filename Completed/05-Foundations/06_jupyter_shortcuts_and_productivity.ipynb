{
  "nbformat": 4,
  "nbformat_minor": 0,
  "metadata": {
    "colab": {
      "provenance": [],
      "authorship_tag": "ABX9TyNIjbO/m1JN59EhTEJSOzD7",
      "include_colab_link": true
    },
    "kernelspec": {
      "name": "python3",
      "display_name": "Python 3"
    },
    "language_info": {
      "name": "python"
    }
  },
  "cells": [
    {
      "cell_type": "markdown",
      "metadata": {
        "id": "view-in-github",
        "colab_type": "text"
      },
      "source": [
        "<a href=\"https://colab.research.google.com/github/aaniaahh/DataScience-2025/blob/main/Completed/05-Foundations/06_jupyter_shortcuts_and_productivity.ipynb\" target=\"_parent\"><img src=\"https://colab.research.google.com/assets/colab-badge.svg\" alt=\"Open In Colab\"/></a>"
      ]
    },
    {
      "cell_type": "markdown",
      "source": [
        "# ⚡ 06 - Jupyter Shortcuts and Productivity\n",
        "Jupyter notebooks have **keyboard shortcuts and tricks** that make you faster.\n",
        "\n",
        "In this notebook you will learn:\n",
        "* Command vs. Edit mode\n",
        "* Essential keyboard shortcuts\n",
        "* Saving and exporting notebooks\n",
        "* Using `%history` and `%save`\n",
        "\n"
      ],
      "metadata": {
        "id": "prx4k1G2RU0-"
      }
    },
    {
      "cell_type": "markdown",
      "source": [
        "## 1. Modes in Jupyter\n",
        "* **Edit mode** (green border, type in cell)\n",
        "* **Command mode** (blue border, issue commands on the notebook)\n",
        "\n",
        "Switch:\n",
        "* Press `Enter` → Edit mode\n",
        "* Press `Esc` → Command mode\n",
        "\n",
        "✅ **Your Turn:** Try switching between Edit and Command mode and notice the border color."
      ],
      "metadata": {
        "id": "qrBZGcLxRugo"
      }
    },
    {
      "cell_type": "markdown",
      "source": [
        "\n"
      ],
      "metadata": {
        "id": "y7L3gAkuUWo4"
      }
    },
    {
      "cell_type": "markdown",
      "source": [
        "## 2. Common Shortcuts\n",
        "* `A` → Insert cell Above\n",
        "* `B` → Insert cell Below\n",
        "* `D D` → Delete a cell\n",
        "* `M` → Change to Markdown cell\n",
        "* `Y` → Change to Code cell\n",
        "* `Shift + Enter` → Run cell and move to next\n",
        "* `Ctrl + Enter` → Run cell, stay put\n",
        "* `Alt + Enter` → Run cell and insert new one below\n",
        "\n",
        "✅ **Your Turn:** Practice creating, deleting, and changing cell types using only shortcuts."
      ],
      "metadata": {
        "id": "BsPSgiSFSNAh"
      }
    },
    {
      "cell_type": "markdown",
      "source": [
        "## 3. Saving and Exporting\n",
        "* `Ctrl + S` (or `Cmd + S` on Mac) → Save notebook\n",
        "* Menu: *File → Download as…* → export to `.py`, `.html`, or `.pdf`\n",
        "* GitHub + Colab workflow: commit changes back to your repo directly\n",
        "\n",
        "✅ **Your Turn:** Save this notebook, then try exporting to `.py` or `.html` from the File menu."
      ],
      "metadata": {
        "id": "ZSjEI1h5SjKl"
      }
    },
    {
      "cell_type": "markdown",
      "source": [
        "## 4. History and Saving Code"
      ],
      "metadata": {
        "id": "_66vMC3ATLMz"
      }
    },
    {
      "cell_type": "code",
      "source": [
        "# Show the first 5 commands in this session\n",
        "%history -n 1-5"
      ],
      "metadata": {
        "id": "eY3NV0LgTOcT"
      },
      "execution_count": null,
      "outputs": []
    },
    {
      "cell_type": "code",
      "source": [
        "# Save history to a file\n",
        "%save my_session.py 1-5"
      ],
      "metadata": {
        "id": "eoIqtTuUTOqX"
      },
      "execution_count": null,
      "outputs": []
    },
    {
      "cell_type": "markdown",
      "source": [
        "✅ **Your Turn:** Use `%history` to view the last 10 commands you ran, then save them to `last10.py`."
      ],
      "metadata": {
        "id": "b5FgUfCQTrUL"
      }
    },
    {
      "cell_type": "code",
      "source": [
        "%history -n 1-10\n",
        "%save last10.py 1-10"
      ],
      "metadata": {
        "colab": {
          "base_uri": "https://localhost:8080/"
        },
        "id": "UJLW6kDjUA2O",
        "outputId": "c30ba2d3-040f-46cb-c0f4-d7040b1da7a5"
      },
      "execution_count": 1,
      "outputs": [
        {
          "output_type": "stream",
          "name": "stdout",
          "text": [
            "   1:\n",
            "%history -n 1-10\n",
            "%save last10.py 1-10\n",
            "The following commands were written to file `last10.py`:\n",
            "get_ipython().run_line_magic('history', '-n 1-10')\n",
            "get_ipython().run_line_magic('save', 'last10.py 1-10')\n"
          ]
        }
      ]
    },
    {
      "cell_type": "markdown",
      "source": [
        "### Summary\n",
        "* Command vs Edit mode controls how you interact with cells.\n",
        "* Shortcuts make notebook use much faster.\n",
        "* You can export notebooks to share or turn them into scripts.\n",
        "* `%history` and `%save` help you capture your work."
      ],
      "metadata": {
        "id": "GVN5TwVZTwqK"
      }
    }
  ]
}