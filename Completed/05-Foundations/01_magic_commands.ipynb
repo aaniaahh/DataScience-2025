{
  "nbformat": 4,
  "nbformat_minor": 0,
  "metadata": {
    "colab": {
      "provenance": [],
      "authorship_tag": "ABX9TyPVwtya8YMjwQX5xhlOsspY",
      "include_colab_link": true
    },
    "kernelspec": {
      "name": "python3",
      "display_name": "Python 3"
    },
    "language_info": {
      "name": "python"
    }
  },
  "cells": [
    {
      "cell_type": "markdown",
      "metadata": {
        "id": "view-in-github",
        "colab_type": "text"
      },
      "source": [
        "<a href=\"https://colab.research.google.com/github/aaniaahh/DataScience-2025/blob/main/Completed/01_magic_commands.ipynb\" target=\"_parent\"><img src=\"https://colab.research.google.com/assets/colab-badge.svg\" alt=\"Open In Colab\"/></a>"
      ]
    },
    {
      "cell_type": "markdown",
      "source": [
        "# 🧙 Magic Commands Demo Notebook\n",
        "This notebook introduces some of the most useful IPython magic commands in Jupyter.\n",
        "\n",
        "Run each cell and see what happens!\n",
        "\n",
        "## 1. Timing and Performance"
      ],
      "metadata": {
        "id": "-w-eSnJ8OC1K"
      }
    },
    {
      "cell_type": "code",
      "execution_count": 1,
      "metadata": {
        "colab": {
          "base_uri": "https://localhost:8080/"
        },
        "id": "Nl-1LMsiN_p7",
        "outputId": "b5671494-5ce4-4323-8036-27053fdc8154"
      },
      "outputs": [
        {
          "output_type": "stream",
          "name": "stdout",
          "text": [
            "CPU times: user 25.3 ms, sys: 0 ns, total: 25.3 ms\n",
            "Wall time: 25.2 ms\n"
          ]
        },
        {
          "output_type": "execute_result",
          "data": {
            "text/plain": [
              "499999500000"
            ]
          },
          "metadata": {},
          "execution_count": 1
        }
      ],
      "source": [
        "%time sum(range(1_000_000))"
      ]
    },
    {
      "cell_type": "code",
      "source": [
        "%timeit sum(range(1_000_000))"
      ],
      "metadata": {
        "id": "Py6cy1NTOfrg"
      },
      "execution_count": null,
      "outputs": []
    },
    {
      "cell_type": "code",
      "source": [
        "%%time\n",
        "total = 0\n",
        "for i in range(1_000_000):\n",
        "    total += i"
      ],
      "metadata": {
        "id": "LKIENDmgOhPN"
      },
      "execution_count": null,
      "outputs": []
    },
    {
      "cell_type": "markdown",
      "source": [
        "## 2. Working with Files"
      ],
      "metadata": {
        "id": "RRnrjMM8OjTi"
      }
    },
    {
      "cell_type": "code",
      "source": [
        "%pwd"
      ],
      "metadata": {
        "colab": {
          "base_uri": "https://localhost:8080/",
          "height": 35
        },
        "id": "yH0bXpKjOpmx",
        "outputId": "124877f2-0ce9-4611-e48c-f5f1a4c587cc"
      },
      "execution_count": 2,
      "outputs": [
        {
          "output_type": "execute_result",
          "data": {
            "text/plain": [
              "'/content'"
            ],
            "application/vnd.google.colaboratory.intrinsic+json": {
              "type": "string"
            }
          },
          "metadata": {},
          "execution_count": 2
        }
      ]
    },
    {
      "cell_type": "code",
      "source": [
        "%ls"
      ],
      "metadata": {
        "colab": {
          "base_uri": "https://localhost:8080/"
        },
        "id": "O5ULS8aNOsTb",
        "outputId": "be707e7a-1f04-493a-afff-58e10d741479"
      },
      "execution_count": 3,
      "outputs": [
        {
          "output_type": "stream",
          "name": "stdout",
          "text": [
            "\u001b[0m\u001b[01;34msample_data\u001b[0m/\n"
          ]
        }
      ]
    },
    {
      "cell_type": "code",
      "source": [
        "%cd ..\n",
        "%pwd"
      ],
      "metadata": {
        "colab": {
          "base_uri": "https://localhost:8080/",
          "height": 52
        },
        "id": "DuaMNc2nOwOr",
        "outputId": "ee163efb-fd63-4543-9f9b-ef1b5fc3ad15"
      },
      "execution_count": 4,
      "outputs": [
        {
          "output_type": "stream",
          "name": "stdout",
          "text": [
            "/\n"
          ]
        },
        {
          "output_type": "execute_result",
          "data": {
            "text/plain": [
              "'/'"
            ],
            "application/vnd.google.colaboratory.intrinsic+json": {
              "type": "string"
            }
          },
          "metadata": {},
          "execution_count": 4
        }
      ]
    },
    {
      "cell_type": "markdown",
      "source": [
        "## 3. Variables in Memory"
      ],
      "metadata": {
        "id": "NXR3-v7OOzg2"
      }
    },
    {
      "cell_type": "code",
      "source": [
        "a = 42\n",
        "b = [1, 2, 3]\n",
        "c = {\"name\": \"Graylian\"}\n",
        "\n",
        "%who"
      ],
      "metadata": {
        "colab": {
          "base_uri": "https://localhost:8080/"
        },
        "id": "pg4WqzdDPKl5",
        "outputId": "717f83eb-b61a-4d72-c87f-c162ba5f6758"
      },
      "execution_count": 5,
      "outputs": [
        {
          "output_type": "stream",
          "name": "stdout",
          "text": [
            "a\t b\t c\t \n"
          ]
        }
      ]
    },
    {
      "cell_type": "code",
      "source": [
        "%whos"
      ],
      "metadata": {
        "colab": {
          "base_uri": "https://localhost:8080/"
        },
        "id": "0RFIwX37SxkU",
        "outputId": "1d689635-350a-4727-f918-10b65a1d508f"
      },
      "execution_count": 11,
      "outputs": [
        {
          "output_type": "stream",
          "name": "stdout",
          "text": [
            "Variable   Type          Data/Info\n",
            "----------------------------------\n",
            "a          int           42\n",
            "b          list          n=3\n",
            "c          dict          n=1\n",
            "cap        CapturedIO    This will not display right away\\n\n"
          ]
        }
      ]
    },
    {
      "cell_type": "code",
      "source": [
        "# %reset"
      ],
      "metadata": {
        "id": "0790cIVGPPND"
      },
      "execution_count": null,
      "outputs": []
    },
    {
      "cell_type": "markdown",
      "source": [
        "## 4. Debugging and Introspection"
      ],
      "metadata": {
        "id": "UTpuuN0qPSoN"
      }
    },
    {
      "cell_type": "code",
      "source": [
        "1/0"
      ],
      "metadata": {
        "colab": {
          "base_uri": "https://localhost:8080/",
          "height": 141
        },
        "id": "qgLPQLqgPUFj",
        "outputId": "1864170b-79d7-4bfe-caa7-4fb49b6b3f17"
      },
      "execution_count": 6,
      "outputs": [
        {
          "output_type": "error",
          "ename": "ZeroDivisionError",
          "evalue": "division by zero",
          "traceback": [
            "\u001b[0;31m---------------------------------------------------------------------------\u001b[0m",
            "\u001b[0;31mZeroDivisionError\u001b[0m                         Traceback (most recent call last)",
            "\u001b[0;32m/tmp/ipython-input-2354412189.py\u001b[0m in \u001b[0;36m<cell line: 0>\u001b[0;34m()\u001b[0m\n\u001b[0;32m----> 1\u001b[0;31m \u001b[0;36m1\u001b[0m\u001b[0;34m/\u001b[0m\u001b[0;36m0\u001b[0m\u001b[0;34m\u001b[0m\u001b[0;34m\u001b[0m\u001b[0m\n\u001b[0m",
            "\u001b[0;31mZeroDivisionError\u001b[0m: division by zero"
          ]
        }
      ]
    },
    {
      "cell_type": "code",
      "source": [
        "%debug"
      ],
      "metadata": {
        "id": "DRoq-yhOPaJF"
      },
      "execution_count": null,
      "outputs": []
    },
    {
      "cell_type": "markdown",
      "source": [
        "## 5. Writing and Running Files"
      ],
      "metadata": {
        "id": "BfInu9TXPutD"
      }
    },
    {
      "cell_type": "code",
      "source": [
        "%%writefile hello.py\n",
        "print(\"Hello from a file!\")"
      ],
      "metadata": {
        "id": "TAygWtPdPyUH"
      },
      "execution_count": null,
      "outputs": []
    },
    {
      "cell_type": "code",
      "source": [
        "%run hello.py"
      ],
      "metadata": {
        "id": "fRIUO4C8PynU"
      },
      "execution_count": null,
      "outputs": []
    },
    {
      "cell_type": "markdown",
      "source": [
        "## 6. Output and Formatting"
      ],
      "metadata": {
        "id": "hWIs3tb3PzB_"
      }
    },
    {
      "cell_type": "code",
      "source": [
        "%%capture cap\n",
        "print(\"This will not display right away\")\n",
        "\n",
        "cap.show()"
      ],
      "metadata": {
        "id": "YfSLPKkDP4vx"
      },
      "execution_count": null,
      "outputs": []
    },
    {
      "cell_type": "code",
      "source": [
        "%%html\n",
        "<h1 style=\"color: maroon\">Magics are Magical ✨</h1>"
      ],
      "metadata": {
        "id": "xWA-xeyAP4cc"
      },
      "execution_count": null,
      "outputs": []
    },
    {
      "cell_type": "code",
      "source": [
        "%%markdown\n",
        "# This is a Markdown cell inside code!\n",
        "**Bold text** and *italic* still work."
      ],
      "metadata": {
        "colab": {
          "base_uri": "https://localhost:8080/",
          "height": 100
        },
        "id": "NXXlHpb8P4Kg",
        "outputId": "a7a2c702-de31-4761-e07e-b590b472911d"
      },
      "execution_count": 8,
      "outputs": [
        {
          "output_type": "display_data",
          "data": {
            "text/plain": [
              "<IPython.core.display.Markdown object>"
            ],
            "text/markdown": "# This is a Markdown cell inside code!\n**Bold text** and *italic* still work.\n"
          },
          "metadata": {}
        }
      ]
    },
    {
      "cell_type": "markdown",
      "source": [
        "## 7. Discover More"
      ],
      "metadata": {
        "id": "29Ugh5W2P5Fl"
      }
    },
    {
      "cell_type": "code",
      "source": [
        "%lsmagic"
      ],
      "metadata": {
        "id": "HD1PLC0uP7fw"
      },
      "execution_count": null,
      "outputs": []
    },
    {
      "cell_type": "code",
      "source": [
        "%timeit?"
      ],
      "metadata": {
        "id": "-mWUy0d3P99E"
      },
      "execution_count": null,
      "outputs": []
    },
    {
      "cell_type": "markdown",
      "source": [
        "## ✅ Try It Yourself:\n",
        "\n",
        "* Use `%timeit` to compare a list comprehension `[x**2 for x in range(1000)]` vs a generator `(x**2 for x in range(1000))`.\n",
        "* Use `%whos` after defining some variables to see their types.\n",
        "* Use `%%html` to make your own banner."
      ],
      "metadata": {
        "id": "ZNt6XJ_CP-Zi"
      }
    },
    {
      "cell_type": "code",
      "source": [
        "# Compare list comprehension vs generator expression\n",
        "%timeit [x**2 for x in range(1000)]\n",
        "%timeit (x**2 for x in range(1000))"
      ],
      "metadata": {
        "colab": {
          "base_uri": "https://localhost:8080/"
        },
        "id": "9ykcaiYjQIW3",
        "outputId": "ec2bec30-f1d5-4f32-db54-0cec56b1c95f"
      },
      "execution_count": 15,
      "outputs": [
        {
          "output_type": "stream",
          "name": "stdout",
          "text": [
            "87.3 µs ± 22.6 µs per loop (mean ± std. dev. of 7 runs, 10000 loops each)\n",
            "271 ns ± 7.1 ns per loop (mean ± std. dev. of 7 runs, 1000000 loops each)\n"
          ]
        }
      ]
    },
    {
      "cell_type": "code",
      "source": [
        "# Inspect my variables with %whos\n",
        "a = [1, 2, 3]\n",
        "b = (1, 2, 3)\n",
        "c = \"Hello\"\n",
        "%whos"
      ],
      "metadata": {
        "colab": {
          "base_uri": "https://localhost:8080/"
        },
        "id": "W8PnoTOHUxHU",
        "outputId": "33911a41-a43e-4bc5-9c69-7beb410f419a"
      },
      "execution_count": 16,
      "outputs": [
        {
          "output_type": "stream",
          "name": "stdout",
          "text": [
            "Variable   Type          Data/Info\n",
            "----------------------------------\n",
            "a          list          n=3\n",
            "b          tuple         n=3\n",
            "c          str           Hello\n",
            "cap        CapturedIO    This will not display right away\\n\n"
          ]
        }
      ]
    },
    {
      "cell_type": "code",
      "source": [
        "# Create a banner\n",
        "%%html\n",
        "<h1 style=\"color: pink; text-align: center;\">\n",
        "✨ Welcome to Aniah's Jupyter Notebook! ✨\n",
        "</h1>"
      ],
      "metadata": {
        "colab": {
          "base_uri": "https://localhost:8080/",
          "height": 74
        },
        "id": "RsfeL3H6U51o",
        "outputId": "40e1f1b6-4c86-4522-b266-f728503ac7bb"
      },
      "execution_count": 18,
      "outputs": [
        {
          "output_type": "display_data",
          "data": {
            "text/plain": [
              "<IPython.core.display.HTML object>"
            ],
            "text/html": [
              "<h1 style=\"color: pink; text-align: center;\">\n",
              "✨ Welcome to Aniah's Jupyter Notebook! ✨\n",
              "</h1>\n"
            ]
          },
          "metadata": {}
        }
      ]
    }
  ]
}