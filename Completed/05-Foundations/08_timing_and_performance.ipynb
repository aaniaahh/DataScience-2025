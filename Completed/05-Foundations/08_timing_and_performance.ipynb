{
  "nbformat": 4,
  "nbformat_minor": 0,
  "metadata": {
    "colab": {
      "provenance": [],
      "authorship_tag": "ABX9TyMfdV+VEoB3ijk33ZhSiN3o",
      "include_colab_link": true
    },
    "kernelspec": {
      "name": "python3",
      "display_name": "Python 3"
    },
    "language_info": {
      "name": "python"
    }
  },
  "cells": [
    {
      "cell_type": "markdown",
      "metadata": {
        "id": "view-in-github",
        "colab_type": "text"
      },
      "source": [
        "<a href=\"https://colab.research.google.com/github/aaniaahh/DataScience-2025/blob/main/Completed/05-Foundations/08_timing_and_performance.ipynb\" target=\"_parent\"><img src=\"https://colab.research.google.com/assets/colab-badge.svg\" alt=\"Open In Colab\"/></a>"
      ]
    },
    {
      "cell_type": "markdown",
      "source": [
        "# ⏱️ 08 - Timing and Performance\n",
        "In data science, performance matters. Some code runs fast, some slow.\n",
        "Jupyter/IPython gives us tools to measure runtime easily.\n",
        "\n",
        "In this notebook you will learn:\n",
        "* `%time` and `%timeit` for single expressions\n",
        "* `%%time` and `%%timeit` for entire cells\n",
        "* Comparing loops, list comprehensions, and NumPy\n",
        "* Why performance awareness is important\n",
        "\n",
        "## 1. `%time`"
      ],
      "metadata": {
        "id": "J9PkSZR20Kyp"
      }
    },
    {
      "cell_type": "code",
      "execution_count": null,
      "metadata": {
        "id": "jvz-BPE30Htp"
      },
      "outputs": [],
      "source": [
        "%time sum(range(1_000_000))"
      ]
    },
    {
      "cell_type": "markdown",
      "source": [
        "✅ **Your Turn:** Use `%time` to measure how long it takes to sort a list of 1 million random numbers."
      ],
      "metadata": {
        "id": "siMLSorF0htW"
      }
    },
    {
      "cell_type": "code",
      "source": [
        "import random\n",
        "\n",
        "# Create a list of 1 million random numbers\n",
        "nums = [random.random() for _ in range(1_000_000)]\n",
        "\n",
        "# Measure the time it takes to sort the list\n",
        "%time sorted_nums = sorted(nums)"
      ],
      "metadata": {
        "colab": {
          "base_uri": "https://localhost:8080/"
        },
        "id": "FBbIsxUT0oWu",
        "outputId": "459de175-b260-41ee-b435-8ff614599da0"
      },
      "execution_count": 1,
      "outputs": [
        {
          "output_type": "stream",
          "name": "stdout",
          "text": [
            "CPU times: user 446 ms, sys: 4.99 ms, total: 451 ms\n",
            "Wall time: 456 ms\n"
          ]
        }
      ]
    },
    {
      "cell_type": "markdown",
      "source": [
        "## 2. `%timeit`"
      ],
      "metadata": {
        "id": "OdlNuarB0ow5"
      }
    },
    {
      "cell_type": "code",
      "source": [
        "numbers = list(range(1_000))\n",
        "%timeit [x**2 for x in numbers]"
      ],
      "metadata": {
        "id": "lI6JiRft0znN"
      },
      "execution_count": null,
      "outputs": []
    },
    {
      "cell_type": "markdown",
      "source": [
        "✅ **Your Turn:** Compare `%timeit` results for a list comprehension vs. a `for` loop that builds the same list."
      ],
      "metadata": {
        "id": "5MlmoASc01Pm"
      }
    },
    {
      "cell_type": "code",
      "source": [
        "# List comprehension\n",
        "%timeit [i*i for i in range(1_000_000)]\n",
        "\n",
        "# For loop\n",
        "%%timeit\n",
        "squares = []\n",
        "for i in range(1_000_000):\n",
        "    squares.append(i**2)"
      ],
      "metadata": {
        "colab": {
          "base_uri": "https://localhost:8080/"
        },
        "id": "f5ClZ7611ALb",
        "outputId": "5380942d-4e52-42fc-e7f9-214ecd9e8f93"
      },
      "execution_count": 2,
      "outputs": [
        {
          "output_type": "stream",
          "name": "stdout",
          "text": [
            "42.8 ms ± 2.3 ms per loop (mean ± std. dev. of 7 runs, 10 loops each)\n"
          ]
        },
        {
          "output_type": "stream",
          "name": "stderr",
          "text": [
            "UsageError: Line magic function `%%timeit` not found.\n"
          ]
        }
      ]
    },
    {
      "cell_type": "markdown",
      "source": [
        "## 3. `%%time` for a Whole Cell"
      ],
      "metadata": {
        "id": "82ni2e1j1Ewe"
      }
    },
    {
      "cell_type": "code",
      "source": [
        "%%timeit\n",
        "total = 0\n",
        "for i in range(1_000_000):\n",
        "    total += i\n",
        "total"
      ],
      "metadata": {
        "id": "lV6QHr3J1KYd"
      },
      "execution_count": null,
      "outputs": []
    },
    {
      "cell_type": "markdown",
      "source": [
        "✅ **Your Turn:** Wrap a longer multi-line operation with `%%time` to measure its runtime."
      ],
      "metadata": {
        "id": "5qTUjrKK1Vi9"
      }
    },
    {
      "cell_type": "code",
      "source": [
        "%%time\n",
        "import random\n",
        "\n",
        "# Create a large list of random numbers\n",
        "nums = [random.random() for _ in range(1_000_000)]\n",
        "\n",
        "# Sort the list\n",
        "sorted_nums = sorted(nums)\n",
        "\n",
        "# Sum the first 100,000 numbers\n",
        "total = sum(sorted_nums[:100_000])\n",
        "\n",
        "print(\"Sum of first 100,000 numbers:\", total)\n"
      ],
      "metadata": {
        "colab": {
          "base_uri": "https://localhost:8080/"
        },
        "id": "QIOIw2OW1ksH",
        "outputId": "27b18e8f-375f-47f2-f88f-aa2d4f83ef3e"
      },
      "execution_count": 3,
      "outputs": [
        {
          "output_type": "stream",
          "name": "stdout",
          "text": [
            "Sum of first 100,000 numbers: 5026.8539437511945\n",
            "CPU times: user 409 ms, sys: 13.1 ms, total: 422 ms\n",
            "Wall time: 422 ms\n"
          ]
        }
      ]
    },
    {
      "cell_type": "markdown",
      "source": [
        "## 4. Comparing Loops vs. NumPy"
      ],
      "metadata": {
        "id": "DvDwkptZ1m5l"
      }
    },
    {
      "cell_type": "code",
      "source": [
        "import numpy as np\n",
        "\n",
        "numbers = np.arange(1_000_000)\n",
        "\n",
        "# Python loop\n",
        "%timeit [x**2 for x in numbers]\n",
        "\n",
        "# NumPy vectorized\n",
        "%timeit numbers**2"
      ],
      "metadata": {
        "id": "WeMgzhns1n1x"
      },
      "execution_count": null,
      "outputs": []
    },
    {
      "cell_type": "markdown",
      "source": [
        "✅ **Your Turn:** Try squaring numbers with a Python loop, list comprehension, and NumPy array. Compare times."
      ],
      "metadata": {
        "id": "4lSUbgT11sI-"
      }
    },
    {
      "cell_type": "code",
      "source": [
        "import numpy as np\n",
        "import time\n",
        "\n",
        "# Size of data\n",
        "N = 500\n",
        "\n",
        "# 1️⃣ Python for loop\n",
        "nums = list(range(N))\n",
        "start = time.time()\n",
        "squares_loop = []\n",
        "for x in nums:\n",
        "    squares_loop.append(x**2)\n",
        "end = time.time()\n",
        "print(\"For loop time:\", end - start, \"seconds\")\n",
        "\n",
        "# 2️⃣ List comprehension\n",
        "start = time.time()\n",
        "squares_lc = [x**2 for x in nums]\n",
        "end = time.time()\n",
        "print(\"List comprehension time:\", end - start, \"seconds\")\n",
        "\n",
        "# 3️⃣ NumPy array\n",
        "arr = np.arange(N)\n",
        "start = time.time()\n",
        "squares_np = arr**2\n",
        "end = time.time()\n",
        "print(\"NumPy array time:\", end - start, \"seconds\")\n"
      ],
      "metadata": {
        "colab": {
          "base_uri": "https://localhost:8080/"
        },
        "id": "_2GvLnc61wzV",
        "outputId": "0dab2bd3-d141-4c07-db2f-b2f03bf2dc11"
      },
      "execution_count": 4,
      "outputs": [
        {
          "output_type": "stream",
          "name": "stdout",
          "text": [
            "For loop time: 0.00020551681518554688 seconds\n",
            "List comprehension time: 0.00014591217041015625 seconds\n",
            "NumPy array time: 8.96453857421875e-05 seconds\n"
          ]
        }
      ]
    },
    {
      "cell_type": "markdown",
      "source": [
        "## 5. Why This Matters\n",
        "* Performance differences become huge with large datasets.\n",
        "* Vectorized operations (like NumPy, Pandas) are usually faster.\n",
        "* `%timeit` is your friend when deciding how to implement something."
      ],
      "metadata": {
        "id": "3QNkdiRt13Cw"
      }
    },
    {
      "cell_type": "markdown",
      "source": [
        "### Summary\n",
        "* `%time` and `%timeit` measure execution speed.\n",
        "* `%%time` and `%%timeit` work on whole cells.\n",
        "* Loops are slower than list comprehensions, which are slower than NumPy.\n",
        "* Always measure performance before optimizing."
      ],
      "metadata": {
        "id": "OfVYm4dQ1-yw"
      }
    }
  ]
}