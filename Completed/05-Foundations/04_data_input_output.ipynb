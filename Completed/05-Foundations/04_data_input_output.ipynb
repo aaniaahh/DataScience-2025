{
  "nbformat": 4,
  "nbformat_minor": 0,
  "metadata": {
    "colab": {
      "provenance": [],
      "authorship_tag": "ABX9TyMMqXiqeoziJqnmCIkCx4sO",
      "include_colab_link": true
    },
    "kernelspec": {
      "name": "python3",
      "display_name": "Python 3"
    },
    "language_info": {
      "name": "python"
    }
  },
  "cells": [
    {
      "cell_type": "markdown",
      "metadata": {
        "id": "view-in-github",
        "colab_type": "text"
      },
      "source": [
        "<a href=\"https://colab.research.google.com/github/aaniaahh/DataScience-2025/blob/main/Completed/05-Foundations/04_data_input_output.ipynb\" target=\"_parent\"><img src=\"https://colab.research.google.com/assets/colab-badge.svg\" alt=\"Open In Colab\"/></a>"
      ]
    },
    {
      "cell_type": "markdown",
      "source": [
        "# 📊 04 - Data Input and Output\n",
        "Most of data science is about **loading data, exploring it, and saving results**.\n",
        "\n",
        "In this notebook you will learn:\n",
        "* Reading CSV files with Pandas\n",
        "* Inspecting DataFrames (`head`, `info`, `describe`)\n",
        "* Writing data back to CSV\n",
        "* Reading Excel files (if available)\n",
        "\n",
        "## 1. Reading CSV Files"
      ],
      "metadata": {
        "id": "5-QZyGjxoKs8"
      }
    },
    {
      "cell_type": "code",
      "execution_count": null,
      "metadata": {
        "id": "4g-CBMlroIsF"
      },
      "outputs": [],
      "source": [
        "import pandas as pd\n",
        "\n",
        "# Create a small CSV for demo\n",
        "data = \"\"\"Name,Age,Score\n",
        "Alice,23,90\n",
        "Bob,25,85\n",
        "Charlie,22,95\n",
        "\"\"\"\n",
        "with open(\"students.csv\", \"w\") as f:\n",
        "    f.write(data)\n",
        "\n",
        "# Read CSV into DataFrame\n",
        "df = pd.read_csv(\"students.csv\")\n",
        "df"
      ]
    },
    {
      "cell_type": "markdown",
      "source": [
        "✅ **Your Turn:** Create your own small CSV (3–5 rows) and read it into Pandas."
      ],
      "metadata": {
        "id": "lVd7R0dVogxv"
      }
    },
    {
      "cell_type": "code",
      "source": [
        "import pandas as pd\n",
        "\n",
        "# Create a small CSV for demo\n",
        "data = \"\"\"Name,Age,Height\n",
        "Aniah,23,5'8\n",
        "Jalah,15,5'4\n",
        "Jasmine,31,5'6\n",
        "Alani,8,4'11\n",
        "\"\"\"\n",
        "with open(\"students.csv\", \"w\") as f:\n",
        "    f.write(data)\n",
        "\n",
        "# Read CSV into DataFrame\n",
        "df = pd.read_csv(\"students.csv\")\n",
        "df"
      ],
      "metadata": {
        "id": "CrAsr3bkorMM"
      },
      "execution_count": null,
      "outputs": []
    },
    {
      "cell_type": "markdown",
      "source": [
        "## 2. Exploring DataFrames"
      ],
      "metadata": {
        "id": "_vVbQw8IqU0_"
      }
    },
    {
      "cell_type": "code",
      "source": [
        "# Look at the first rows\n",
        "df.head()"
      ],
      "metadata": {
        "id": "PahMvDMeqV37"
      },
      "execution_count": null,
      "outputs": []
    },
    {
      "cell_type": "code",
      "source": [
        "# Info about columns and data types\n",
        "df.info()"
      ],
      "metadata": {
        "id": "tQ8oZ1L9qYkb"
      },
      "execution_count": null,
      "outputs": []
    },
    {
      "cell_type": "code",
      "source": [
        "# Summary statistics\n",
        "df.describe()"
      ],
      "metadata": {
        "id": "qUobL-Lfqboh"
      },
      "execution_count": null,
      "outputs": []
    },
    {
      "cell_type": "markdown",
      "source": [
        "✅ **Your Turn:** Use `.head()` to preview your dataset and `.describe()` to see basic statistics."
      ],
      "metadata": {
        "id": "EJibzb2tqgjF"
      }
    },
    {
      "cell_type": "code",
      "source": [
        "import pandas as pd\n",
        "\n",
        "# Create a small dataset\n",
        "data = {\n",
        "    \"Name\": [\"Makayla\", \"Audrianna\", \"Nyla\",\"Evalynn\", \"Lay Lay\"],\n",
        "    \"Hours_Studied\": [10, 8, 12, 6, 9],\n",
        "    \"Test_Score\": [92, 88, 96, 85, 90]\n",
        "}\n",
        "\n",
        "# Convert to a DataFrame\n",
        "df = pd.DataFrame(data)\n",
        "\n",
        "# Preview the first few rows\n",
        "print(\"Preview of dataset:\")\n",
        "print(df.head())\n",
        "\n",
        "# Show basic statistics\n",
        "print(\"\\nBasic statistics:\")\n",
        "print(df.describe())\n"
      ],
      "metadata": {
        "id": "XOdtabuPqrk6"
      },
      "execution_count": null,
      "outputs": []
    },
    {
      "cell_type": "markdown",
      "source": [
        "## 3. Writing CSV Files"
      ],
      "metadata": {
        "id": "a1VrmPAWqr7a"
      }
    },
    {
      "cell_type": "code",
      "source": [
        "# Save the DataFrame to a new CSV\n",
        "df.to_csv(\"students_copy.csv\", index=False)\n",
        "%ls *.csv"
      ],
      "metadata": {
        "id": "GQjg8-Hfqtoo"
      },
      "execution_count": null,
      "outputs": []
    },
    {
      "cell_type": "markdown",
      "source": [
        "✅ **Your Turn:** Save your DataFrame to a CSV file called my_data.csv."
      ],
      "metadata": {
        "id": "yAE3E8WcrkaR"
      }
    },
    {
      "cell_type": "code",
      "source": [
        "import pandas as pd\n",
        "\n",
        "# Create a small dataset\n",
        "data = {\n",
        "    \"Name\": [\"Makayla\", \"Audrianna\", \"Nyla\",\"Evalynn\", \"Lay Lay\"],\n",
        "    \"Hours_Studied\": [10, 8, 12, 6, 9],\n",
        "    \"Test_Score\": [92, 88, 96, 85, 90]\n",
        "}\n",
        "\n",
        "# Convert to a DataFrame\n",
        "df = pd.DataFrame(data)\n",
        "\n",
        "# Save the DataFrame to a CSV file\n",
        "df.to_csv(\"my_data.csv\", index=False)\n",
        "\n",
        "print(\"✅ DataFrame saved to my_data.csv\")"
      ],
      "metadata": {
        "id": "9aWAHhzirnS6"
      },
      "execution_count": null,
      "outputs": []
    },
    {
      "cell_type": "markdown",
      "source": [
        "## 4. Reading Excel Files"
      ],
      "metadata": {
        "id": "q6RiEbbYrpXB"
      }
    },
    {
      "cell_type": "code",
      "source": [
        "# Optional: Requires 'openpyxl' installed\n",
        "# Save to Excel\n",
        "df.to_excel(\"students.xlsx\", index=False)\n",
        "\n",
        "# Read Excel file\n",
        "pd.read_excel(\"students.xlsx\")"
      ],
      "metadata": {
        "id": "V49V3TbVrvQ6"
      },
      "execution_count": null,
      "outputs": []
    },
    {
      "cell_type": "markdown",
      "source": [
        "✅ **Your Turn:** Try saving your dataset to Excel and reading it back (if supported in your environment)."
      ],
      "metadata": {
        "id": "uDC7kBdqrw3x"
      }
    },
    {
      "cell_type": "code",
      "source": [
        "import pandas as pd\n",
        "\n",
        "# Create a small dataset\n",
        "data = {\n",
        "    \"Name\": [\"Makayla\", \"Audrianna\", \"Nyla\",\"Evalynn\", \"Lay Lay\"],\n",
        "    \"Hours_Studied\": [10, 8, 12, 6, 9],\n",
        "    \"Test_Score\": [92, 88, 96, 85, 90]\n",
        "}\n",
        "\n",
        "# Convert to a DataFrame\n",
        "df = pd.DataFrame(data)\n",
        "\n",
        "# ✅ Save to Excel\n",
        "df.to_excel(\"my_data.xlsx\", index=False)\n",
        "\n",
        "print(\"DataFrame saved to my_data.xlsx\")\n",
        "\n",
        "# ✅ Read it back\n",
        "df_excel = pd.read_excel(\"my_data.xlsx\")\n",
        "\n",
        "print(\"\\nPreview of data read from Excel:\")\n",
        "print(df_excel.head())"
      ],
      "metadata": {
        "id": "dxMcizkErxMY"
      },
      "execution_count": null,
      "outputs": []
    },
    {
      "cell_type": "markdown",
      "source": [
        "### Summary\n",
        "* `pd.read_csv` loads data into a DataFrame.\n",
        "* Use `.head()`, `.info()`, `.describe()` to explore quickly.\n",
        "* `df.to_csv` and `df.to_excel` save results.\n",
        "* Pandas makes file I/O simple and reliable."
      ],
      "metadata": {
        "id": "tfkD130DryOf"
      }
    }
  ]
}