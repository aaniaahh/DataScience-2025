{
  "nbformat": 4,
  "nbformat_minor": 0,
  "metadata": {
    "colab": {
      "provenance": [],
      "authorship_tag": "ABX9TyN3yONtjdPB81BLCSZNQRai",
      "include_colab_link": true
    },
    "kernelspec": {
      "name": "python3",
      "display_name": "Python 3"
    },
    "language_info": {
      "name": "python"
    }
  },
  "cells": [
    {
      "cell_type": "markdown",
      "metadata": {
        "id": "view-in-github",
        "colab_type": "text"
      },
      "source": [
        "<a href=\"https://colab.research.google.com/github/aaniaahh/DataScience-2025/blob/main/Completed/05-Foundations/Foundations_Quiz.ipynb\" target=\"_parent\"><img src=\"https://colab.research.google.com/assets/colab-badge.svg\" alt=\"Open In Colab\"/></a>"
      ]
    },
    {
      "cell_type": "markdown",
      "source": [
        "# 📝 Foundations Quiz\n",
        "This quiz covers material from the **Foundations** notebooks (01–08).\n",
        "\n",
        "Answer each question in the provided cell. Some questions require code, others are written answers."
      ],
      "metadata": {
        "id": "hmDRXTKJvNdf"
      }
    },
    {
      "cell_type": "markdown",
      "source": [
        "### Q1. Magics\n",
        "What does `%whos` display? Write your answer below.\n",
        "\n",
        "*Your Answer:* It displays all variables currently in the notebook session, along with their type, and size.\n",
        "\n",
        "### Q2. Markdown\n",
        "Create a Markdown cell with a heading `## My Hobbies` and a bullet list of at least 3 hobbies.\n",
        "\n",
        "*Your Answer:*\n",
        "```markdown\n",
        "## My Hobbies\n",
        "- Dancing  \n",
        "- Singing  \n",
        "- Drawing\n",
        "```\n",
        "\n",
        "### Q3. Files and Paths\n",
        "Use `%pwd` to print your current working directory."
      ],
      "metadata": {
        "id": "xFaxWEafvdca"
      }
    },
    {
      "cell_type": "code",
      "execution_count": null,
      "metadata": {
        "id": "k_iqm61CvJ6E"
      },
      "outputs": [],
      "source": [
        "%pwd"
      ]
    },
    {
      "cell_type": "markdown",
      "source": [
        "### Q4. File I/O\n",
        "Write Python code that saves `Hello World` to a file called `hello.txt`, then reads it back and prints the contents."
      ],
      "metadata": {
        "id": "Q8cm0kMFvu9P"
      }
    },
    {
      "cell_type": "code",
      "source": [
        "# Write to file\n",
        "with open(\"hello.txt\", \"w\") as file:\n",
        "    file.write(\"Hello World\")\n",
        "\n",
        "# Read and print the file\n",
        "with open(\"hello.txt\", \"r\") as file:\n",
        "    print(file.read())"
      ],
      "metadata": {
        "id": "FOl2xuSHv6a6"
      },
      "execution_count": null,
      "outputs": []
    },
    {
      "cell_type": "markdown",
      "source": [
        "### Q5. Data I/O\n",
        "Load the file `students.csv` (or create a small CSV yourself) with Pandas and show the first 5 rows."
      ],
      "metadata": {
        "id": "cKGmxBXwv6-Q"
      }
    },
    {
      "cell_type": "code",
      "source": [
        "import pandas as pd\n",
        "\n",
        "# Create a small CSV for demo\n",
        "data = {\n",
        "    \"Name\": [\"Aniah\", \"Taylor\", \"Jasmine\"],\n",
        "    \"Grade\": [85, 94, 72]\n",
        "}\n",
        "df = pd.DataFrame(data)\n",
        "df.to_csv(\"students.csv\", index=False)\n",
        "\n",
        "# Load and preview\n",
        "students = pd.read_csv(\"students.csv\")\n",
        "students.head()\n"
      ],
      "metadata": {
        "id": "x4pX5PQUwDWl"
      },
      "execution_count": null,
      "outputs": []
    },
    {
      "cell_type": "markdown",
      "source": [
        "### Q6. Plotting\n",
        "Create a line plot of $ y = x^2 $ for x values from 0 to 10."
      ],
      "metadata": {
        "id": "6GB0NNd1wDoB"
      }
    },
    {
      "cell_type": "code",
      "source": [
        "import matplotlib.pyplot as plt\n",
        "\n",
        "x = list(range(11))\n",
        "y = [i*i for i in x]\n",
        "\n",
        "plt.plot(x, y, marker='o')\n",
        "plt.title(\"y = x²\")\n",
        "plt.xlabel(\"x\")\n",
        "plt.ylabel(\"y\")\n",
        "plt.show()"
      ],
      "metadata": {
        "id": "jRDd3r-_wP0-"
      },
      "execution_count": null,
      "outputs": []
    },
    {
      "cell_type": "markdown",
      "source": [
        "### Q7. Shortcuts\n",
        "In Command mode, what keyboard shortcut deletes a cell?\n",
        "\n",
        "*Your Answer:* Press D twice (DD) to delete a cell in Command mode.\n",
        "\n",
        "### Q8. Help and Docs\n",
        "Use `?` to display the docstring for `len.` Show the result."
      ],
      "metadata": {
        "id": "ZWnt-XlEwQVe"
      }
    },
    {
      "cell_type": "code",
      "source": [
        "len?"
      ],
      "metadata": {
        "id": "2z8u201Cwctm"
      },
      "execution_count": null,
      "outputs": []
    },
    {
      "cell_type": "markdown",
      "source": [
        "### Q9. Timing\n",
        "Compare the runtime of squaring numbers using a Python loop vs. NumPy. Use `%timeit` for each."
      ],
      "metadata": {
        "id": "HEQjkhHdwdEQ"
      }
    },
    {
      "cell_type": "code",
      "source": [
        "import numpy as np\n",
        "\n",
        "# Python loop\n",
        "%timeit [x**2 for x in range(1000000)]\n",
        "\n",
        "# NumPy vectorized operation\n",
        "arr = np.arange(1000000)\n",
        "%timeit arr ** 2"
      ],
      "metadata": {
        "id": "zqsukIOFwflk"
      },
      "execution_count": null,
      "outputs": []
    },
    {
      "cell_type": "markdown",
      "source": [
        "### Q10. Reflection\n",
        "Why is it useful to mix Markdown and code in Jupyter notebooks? Write 2–3 sentences.\n",
        "\n",
        "*Your Answer:* Mixing Markdown and code makes notebooks clear and well-documented. Markdown allows you to explain your thought process, describe results, and organize your analysis, while code cells show how you computed them.."
      ],
      "metadata": {
        "id": "tKPLT1cdwi35"
      }
    }
  ]
}