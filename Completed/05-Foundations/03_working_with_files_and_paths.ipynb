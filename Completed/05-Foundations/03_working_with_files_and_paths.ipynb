{
  "nbformat": 4,
  "nbformat_minor": 0,
  "metadata": {
    "colab": {
      "provenance": [],
      "authorship_tag": "ABX9TyPEHrOzbLq9noK6e7Db6o/b",
      "include_colab_link": true
    },
    "kernelspec": {
      "name": "python3",
      "display_name": "Python 3"
    },
    "language_info": {
      "name": "python"
    }
  },
  "cells": [
    {
      "cell_type": "markdown",
      "metadata": {
        "id": "view-in-github",
        "colab_type": "text"
      },
      "source": [
        "<a href=\"https://colab.research.google.com/github/aaniaahh/DataScience-2025/blob/main/Completed/03_working_with_files_and_paths.ipynb\" target=\"_parent\"><img src=\"https://colab.research.google.com/assets/colab-badge.svg\" alt=\"Open In Colab\"/></a>"
      ]
    },
    {
      "cell_type": "markdown",
      "source": [
        "# 📂 03 - Working with Files and Paths\n",
        "Data science means working with files all the time: datasets, config files, logs.\n",
        "\n",
        "This notebook introduces:\n",
        "* Checking your current path in Jupyter\n",
        "* Navigating directories\n",
        "* Reading and writing text files\n",
        "* Using `with` for safe file handling\n",
        "* Basics of JSON and CSV I/O\n",
        "\n",
        "## 1. Where am I?"
      ],
      "metadata": {
        "id": "3Cw9-XwVfGs7"
      }
    },
    {
      "cell_type": "code",
      "execution_count": null,
      "metadata": {
        "id": "TVliMvsqfEq1"
      },
      "outputs": [],
      "source": [
        "%pwd  # Print current working directory"
      ]
    },
    {
      "cell_type": "code",
      "source": [
        "%ls  # List files in the current directory"
      ],
      "metadata": {
        "id": "YEvZeSqqfjnX"
      },
      "execution_count": null,
      "outputs": []
    },
    {
      "cell_type": "code",
      "source": [
        "%cd ..  # Change to parent directory\n",
        "%pwd"
      ],
      "metadata": {
        "id": "32IvC-G5fkJA"
      },
      "execution_count": null,
      "outputs": []
    },
    {
      "cell_type": "markdown",
      "source": [
        "✅ **Your Turn:** Navigate into a subfolder of your repo (e.g., `Foundations/`) and list its contents."
      ],
      "metadata": {
        "id": "W3mLKKGmfpPw"
      }
    },
    {
      "cell_type": "code",
      "source": [
        "cd Foundations\n",
        "ls"
      ],
      "metadata": {
        "id": "BOPnSpiSf1b8"
      },
      "execution_count": null,
      "outputs": []
    },
    {
      "cell_type": "markdown",
      "source": [
        "## 2. Writing and Reading Text Files"
      ],
      "metadata": {
        "id": "cys8YBZef9P8"
      }
    },
    {
      "cell_type": "code",
      "source": [
        "# Writing to a text file\n",
        "with open(\"example.txt\", \"w\") as f:\n",
        "    f.write(\"Hello, Jupyter!\\n\")\n",
        "    f.write(\"This is a text file.\\n\")"
      ],
      "metadata": {
        "id": "sgEWeggDf-Zy"
      },
      "execution_count": null,
      "outputs": []
    },
    {
      "cell_type": "code",
      "source": [
        "# Reading from a text file\n",
        "with open(\"example.txt\", \"r\") as f:\n",
        "    contents = f.read()\n",
        "contents"
      ],
      "metadata": {
        "id": "0pj8d4EBgBnE"
      },
      "execution_count": null,
      "outputs": []
    },
    {
      "cell_type": "markdown",
      "source": [
        "✅ **Your Turn:** Write your name into a file called `me.txt`, then read it back and print the result."
      ],
      "metadata": {
        "id": "eGsCi-39gGoE"
      }
    },
    {
      "cell_type": "code",
      "source": [
        "# Write your name to a file\n",
        "with open(\"me.txt\", \"w\") as file:\n",
        "    file.write(\"Aniah Myles\")\n",
        "\n",
        "# Read the file and print the result\n",
        "with open(\"me.txt\", \"r\") as file:\n",
        "    content = file.read()\n",
        "    print(content)"
      ],
      "metadata": {
        "id": "znxNJLxvgP3M"
      },
      "execution_count": null,
      "outputs": []
    },
    {
      "cell_type": "markdown",
      "source": [
        "## 3. JSON Files"
      ],
      "metadata": {
        "id": "h6IYd5rtgUmq"
      }
    },
    {
      "cell_type": "code",
      "source": [
        "import json\n",
        "\n",
        "data = {\"name\": \"Graylian\", \"type\": \"mascot\", \"skills\": [\"howl\", \"parrot talk\"]}\n",
        "\n",
        "# Write JSON\n",
        "with open(\"data.json\", \"w\") as f:\n",
        "    json.dump(data, f)\n",
        "\n",
        "# Read JSON\n",
        "with open(\"data.json\", \"r\") as f:\n",
        "    loaded = json.load(f)\n",
        "loaded"
      ],
      "metadata": {
        "id": "bMhfjHg9gWQD"
      },
      "execution_count": null,
      "outputs": []
    },
    {
      "cell_type": "markdown",
      "source": [
        "✅ **Your Turn:** Create a dictionary with your name and 2-3 favorite courses. Save it to `courses.json`, then read it back."
      ],
      "metadata": {
        "id": "Dnug021jg-j4"
      }
    },
    {
      "cell_type": "code",
      "source": [
        "import json\n",
        "\n",
        "# Create a dictionary\n",
        "data = {\n",
        "    \"name\": \"Aniah Myles\",\n",
        "    \"favorite_courses\": [\"Linear Algebra\", \"Operational Research\", \"Data Sciences\"]\n",
        "}\n",
        "\n",
        "# Save it to a JSON file\n",
        "with open(\"courses.json\", \"w\") as file:\n",
        "    json.dump(data, file)\n",
        "\n",
        "# Read the file back\n",
        "with open(\"courses.json\", \"r\") as file:\n",
        "    loaded_data = json.load(file)\n",
        "\n",
        "# Print the result\n",
        "print(loaded_data)\n"
      ],
      "metadata": {
        "id": "tUyXHpj9hYcO"
      },
      "execution_count": null,
      "outputs": []
    },
    {
      "cell_type": "markdown",
      "source": [
        "## 4. CSV Files"
      ],
      "metadata": {
        "id": "uolblWydhKjk"
      }
    },
    {
      "cell_type": "code",
      "source": [
        "import csv\n",
        "\n",
        "# Writing CSV\n",
        "rows = [[\"Name\", \"Score\"], [\"Alice\", 90], [\"Bob\", 85]]\n",
        "with open(\"scores.csv\", \"w\", newline=\"\") as f:\n",
        "    writer = csv.writer(f)\n",
        "    writer.writerows(rows)\n",
        "\n",
        "# Reading CSV\n",
        "with open(\"scores.csv\", \"r\") as f:\n",
        "    reader = csv.reader(f)\n",
        "    for row in reader:\n",
        "        print(row)"
      ],
      "metadata": {
        "id": "qiD5BEjzhK9W"
      },
      "execution_count": null,
      "outputs": []
    },
    {
      "cell_type": "markdown",
      "source": [
        "✅ **Your Turn:** Create a CSV with 3 rows of your own data (e.g., pets, grades, or hobbies). Read it back and display the rows."
      ],
      "metadata": {
        "id": "73uXYLVwhlP8"
      }
    },
    {
      "cell_type": "code",
      "source": [
        "import csv\n",
        "\n",
        "# Step 1: Create and write data to a CSV file\n",
        "with open(\"hobbies.csv\", \"w\", newline=\"\") as file:\n",
        "    writer = csv.writer(file)\n",
        "    writer.writerow([\"Name\", \"Hobby\", \"Hours per Week\"])\n",
        "    writer.writerow([\"Aniah\", \"Dancing\", 8])\n",
        "    writer.writerow([\"Taylor\", \"Singing\", 4])\n",
        "    writer.writerow([\"Bryson\", \"Gaming\", 10])\n",
        "\n",
        "# Step 2: Read the CSV file and print each row\n",
        "with open(\"hobbies.csv\", \"r\") as file:\n",
        "    reader = csv.reader(file)\n",
        "    for row in reader:\n",
        "        print(row)\n"
      ],
      "metadata": {
        "id": "cZjLOiUehlou"
      },
      "execution_count": null,
      "outputs": []
    },
    {
      "cell_type": "markdown",
      "source": [
        "### Summary\n",
        "* `%pwd`, `%ls`, `%cd` show you where you are in the filesystem.\n",
        "* Use `with open(...)` to safely read/write files.\n",
        "* JSON is for structured data (key/value).\n",
        "* CSV is for tabular data (rows/columns).\n",
        "* Managing files is step 1 in any real data science project."
      ],
      "metadata": {
        "id": "zPBpV0bShxDO"
      }
    }
  ]
}