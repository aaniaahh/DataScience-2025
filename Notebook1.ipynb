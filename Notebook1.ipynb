{
  "cells": [
    {
      "cell_type": "markdown",
      "metadata": {
        "id": "view-in-github",
        "colab_type": "text"
      },
      "source": [
        "<a href=\"https://colab.research.google.com/github/aaniaahh/DataScience-2025/blob/main/Notebook1.ipynb\" target=\"_parent\"><img src=\"https://colab.research.google.com/assets/colab-badge.svg\" alt=\"Open In Colab\"/></a>"
      ]
    },
    {
      "cell_type": "markdown",
      "id": "7dc579f1",
      "metadata": {
        "id": "7dc579f1"
      },
      "source": [
        "# 📘 Variable, Data Type, and Operator Review\n",
        "### Aniah Myles\n",
        "This notebook helps you practice basic Python syntax."
      ]
    },
    {
      "cell_type": "code",
      "execution_count": 1,
      "id": "f1b7975c",
      "metadata": {
        "id": "f1b7975c",
        "colab": {
          "base_uri": "https://localhost:8080/"
        },
        "outputId": "26ee9298-25d9-457f-94ed-7d22d56967ce"
      },
      "outputs": [
        {
          "output_type": "stream",
          "name": "stdout",
          "text": [
            "22 4.5 hello True\n"
          ]
        }
      ],
      "source": [
        "# 🔧 Define Variables\n",
        "x = 22\n",
        "y = 4.5\n",
        "z = 'hello'\n",
        "b = True\n",
        "print(x, y, z, b)"
      ]
    },
    {
      "cell_type": "markdown",
      "id": "fd9c3a23",
      "metadata": {
        "id": "fd9c3a23"
      },
      "source": [
        "### ✅ What is the type of each variable above?\n",
        "`Answer:` int, float, string, and bool\n",
        "\n",
        "Use the `type()` function below:"
      ]
    },
    {
      "cell_type": "code",
      "execution_count": 6,
      "id": "5de03e04",
      "metadata": {
        "id": "5de03e04",
        "colab": {
          "base_uri": "https://localhost:8080/"
        },
        "outputId": "e53b3935-7a76-48dc-8914-1c1e6570cafa"
      },
      "outputs": [
        {
          "output_type": "stream",
          "name": "stdout",
          "text": [
            "<class 'int'>\n",
            "<class 'float'>\n",
            "<class 'str'>\n",
            "<class 'int'>\n"
          ]
        }
      ],
      "source": [
        "print(type(x))\n",
        "print(type(y))\n",
        "print(type(z))\n",
        "print(type(b))"
      ]
    },
    {
      "cell_type": "markdown",
      "id": "c8a3be7d",
      "metadata": {
        "id": "c8a3be7d"
      },
      "source": [
        "### ⚖️ Comparison Operators\n",
        "Fill in the blanks:"
      ]
    },
    {
      "cell_type": "code",
      "execution_count": 3,
      "id": "6832365f",
      "metadata": {
        "id": "6832365f",
        "colab": {
          "base_uri": "https://localhost:8080/"
        },
        "outputId": "26af9750-a4b4-40a8-fb63-3f48fe0a2640"
      },
      "outputs": [
        {
          "output_type": "stream",
          "name": "stdout",
          "text": [
            "False\n",
            "True\n"
          ]
        }
      ],
      "source": [
        "# True or False?\n",
        "print(x == y)\n",
        "print(z == 'hello')"
      ]
    },
    {
      "cell_type": "markdown",
      "id": "363c62fd",
      "metadata": {
        "id": "363c62fd"
      },
      "source": [
        "### ➗ Arithmetic Practice"
      ]
    },
    {
      "cell_type": "code",
      "execution_count": 4,
      "id": "de5b1cd3",
      "metadata": {
        "id": "de5b1cd3",
        "colab": {
          "base_uri": "https://localhost:8080/"
        },
        "outputId": "5591b54e-1d51-4469-ff81-0b02600dda32"
      },
      "outputs": [
        {
          "output_type": "stream",
          "name": "stdout",
          "text": [
            "Add: 12\n",
            "Subtract 4\n",
            "Divide: 2.0\n",
            "Modulus: 0\n"
          ]
        }
      ],
      "source": [
        "a = 8\n",
        "b = 4\n",
        "print('Add:', a + b)\n",
        "print('Subtract', a - b)\n",
        "print('Divide:', a / b)\n",
        "print('Modulus:', a % b)"
      ]
    },
    {
      "cell_type": "markdown",
      "id": "f3669e53",
      "metadata": {
        "id": "f3669e53"
      },
      "source": [
        "### 🧠 Logical Operators"
      ]
    },
    {
      "cell_type": "code",
      "execution_count": 5,
      "id": "5f4d3b2d",
      "metadata": {
        "id": "5f4d3b2d",
        "colab": {
          "base_uri": "https://localhost:8080/"
        },
        "outputId": "a0901f1f-ece6-4816-b595-aa1f70071a79"
      },
      "outputs": [
        {
          "output_type": "stream",
          "name": "stdout",
          "text": [
            "False\n",
            "True\n",
            "True\n"
          ]
        }
      ],
      "source": [
        "print(True and False)\n",
        "print(True or False)\n",
        "print(not False)"
      ]
    }
  ],
  "metadata": {
    "colab": {
      "provenance": [],
      "include_colab_link": true
    },
    "language_info": {
      "name": "python"
    },
    "kernelspec": {
      "name": "python3",
      "display_name": "Python 3"
    }
  },
  "nbformat": 4,
  "nbformat_minor": 5
}